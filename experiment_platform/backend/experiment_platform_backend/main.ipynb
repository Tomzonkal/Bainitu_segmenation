{
 "cells": [
  {
   "cell_type": "code",
   "execution_count": 1,
   "id": "310de008",
   "metadata": {},
   "outputs": [
    {
     "data": {
      "application/vnd.microsoft.datawrangler.viewer.v0+json": {
       "columns": [
        {
         "name": "index",
         "rawType": "int64",
         "type": "integer"
        },
        {
         "name": "image_path",
         "rawType": "object",
         "type": "string"
        },
        {
         "name": "json_path",
         "rawType": "object",
         "type": "unknown"
        },
        {
         "name": "martensite_count",
         "rawType": "object",
         "type": "unknown"
        },
        {
         "name": "bainite_count",
         "rawType": "object",
         "type": "unknown"
        }
       ],
       "ref": "e2bf21fa-b939-43a5-af7d-6ff9673719f8",
       "rows": [
        [
         "0",
         "../../../data_labeling/src/raw_images/798-DQ-hollow_1000x-1.tif",
         null,
         null,
         null
        ],
        [
         "1",
         "../../../data_labeling/src/raw_images/798-DQ-hollow_1000x-2.tif",
         null,
         null,
         null
        ],
        [
         "2",
         "../../../data_labeling/src/raw_images/798-DQ-hollow_1000x-3.tif",
         null,
         null,
         null
        ],
        [
         "3",
         "../../../data_labeling/src/raw_images/797-DQ-full_1000x-1.tif",
         "../../../data_labeling/src/metadata/797-DQ-full_1000x-1.json",
         "8",
         "4"
        ],
        [
         "4",
         "../../../data_labeling/src/raw_images/797-DQ-full_1000x-3.tif",
         null,
         null,
         null
        ],
        [
         "5",
         "../../../data_labeling/src/raw_images/797-DQ-full_1000x-2.tif",
         "../../../data_labeling/src/metadata/797-DQ-full_1000x-2.json",
         "6",
         "5"
        ]
       ],
       "shape": {
        "columns": 4,
        "rows": 6
       }
      },
      "text/html": [
       "<div>\n",
       "<style scoped>\n",
       "    .dataframe tbody tr th:only-of-type {\n",
       "        vertical-align: middle;\n",
       "    }\n",
       "\n",
       "    .dataframe tbody tr th {\n",
       "        vertical-align: top;\n",
       "    }\n",
       "\n",
       "    .dataframe thead th {\n",
       "        text-align: right;\n",
       "    }\n",
       "</style>\n",
       "<table border=\"1\" class=\"dataframe\">\n",
       "  <thead>\n",
       "    <tr style=\"text-align: right;\">\n",
       "      <th></th>\n",
       "      <th>image_path</th>\n",
       "      <th>json_path</th>\n",
       "      <th>martensite_count</th>\n",
       "      <th>bainite_count</th>\n",
       "    </tr>\n",
       "  </thead>\n",
       "  <tbody>\n",
       "    <tr>\n",
       "      <th>0</th>\n",
       "      <td>../../../data_labeling/src/raw_images/798-DQ-h...</td>\n",
       "      <td>None</td>\n",
       "      <td>None</td>\n",
       "      <td>None</td>\n",
       "    </tr>\n",
       "    <tr>\n",
       "      <th>1</th>\n",
       "      <td>../../../data_labeling/src/raw_images/798-DQ-h...</td>\n",
       "      <td>None</td>\n",
       "      <td>None</td>\n",
       "      <td>None</td>\n",
       "    </tr>\n",
       "    <tr>\n",
       "      <th>2</th>\n",
       "      <td>../../../data_labeling/src/raw_images/798-DQ-h...</td>\n",
       "      <td>None</td>\n",
       "      <td>None</td>\n",
       "      <td>None</td>\n",
       "    </tr>\n",
       "    <tr>\n",
       "      <th>3</th>\n",
       "      <td>../../../data_labeling/src/raw_images/797-DQ-f...</td>\n",
       "      <td>../../../data_labeling/src/metadata/797-DQ-ful...</td>\n",
       "      <td>8</td>\n",
       "      <td>4</td>\n",
       "    </tr>\n",
       "    <tr>\n",
       "      <th>4</th>\n",
       "      <td>../../../data_labeling/src/raw_images/797-DQ-f...</td>\n",
       "      <td>None</td>\n",
       "      <td>None</td>\n",
       "      <td>None</td>\n",
       "    </tr>\n",
       "    <tr>\n",
       "      <th>5</th>\n",
       "      <td>../../../data_labeling/src/raw_images/797-DQ-f...</td>\n",
       "      <td>../../../data_labeling/src/metadata/797-DQ-ful...</td>\n",
       "      <td>6</td>\n",
       "      <td>5</td>\n",
       "    </tr>\n",
       "  </tbody>\n",
       "</table>\n",
       "</div>"
      ],
      "text/plain": [
       "                                          image_path  \\\n",
       "0  ../../../data_labeling/src/raw_images/798-DQ-h...   \n",
       "1  ../../../data_labeling/src/raw_images/798-DQ-h...   \n",
       "2  ../../../data_labeling/src/raw_images/798-DQ-h...   \n",
       "3  ../../../data_labeling/src/raw_images/797-DQ-f...   \n",
       "4  ../../../data_labeling/src/raw_images/797-DQ-f...   \n",
       "5  ../../../data_labeling/src/raw_images/797-DQ-f...   \n",
       "\n",
       "                                           json_path martensite_count  \\\n",
       "0                                               None             None   \n",
       "1                                               None             None   \n",
       "2                                               None             None   \n",
       "3  ../../../data_labeling/src/metadata/797-DQ-ful...                8   \n",
       "4                                               None             None   \n",
       "5  ../../../data_labeling/src/metadata/797-DQ-ful...                6   \n",
       "\n",
       "  bainite_count  \n",
       "0          None  \n",
       "1          None  \n",
       "2          None  \n",
       "3             4  \n",
       "4          None  \n",
       "5             5  "
      ]
     },
     "execution_count": 1,
     "metadata": {},
     "output_type": "execute_result"
    }
   ],
   "source": [
    "from curses import raw\n",
    "from datasets import ImageDataset, SegmentDataset\n",
    "from preprocessors import LabeledSegmentsCreator\n",
    "import config\n",
    "import numpy as np\n",
    "# Initialize the image dataset with the specified paths\n",
    "image_dataset=ImageDataset(dataset_name=\"raw_bainite_dataset\",\n",
    "                 image_data_path=config.RAW_BAINITE_IMAGE_DATASET_PATH,\n",
    "                 image_label_data_path=config.RAW_BAINITE_LABEL_DATASET_PATH,\n",
    "    )\n",
    "raw_images_df=image_dataset.load_meta_data()\n",
    "raw_images_df "
   ]
  },
  {
   "cell_type": "code",
   "execution_count": 2,
   "id": "61eaa640",
   "metadata": {},
   "outputs": [
    {
     "data": {
      "application/vnd.microsoft.datawrangler.viewer.v0+json": {
       "columns": [
        {
         "name": "index",
         "rawType": "int64",
         "type": "integer"
        },
        {
         "name": "image_path",
         "rawType": "object",
         "type": "string"
        },
        {
         "name": "json_path",
         "rawType": "object",
         "type": "string"
        },
        {
         "name": "martensite_count",
         "rawType": "object",
         "type": "unknown"
        },
        {
         "name": "bainite_count",
         "rawType": "object",
         "type": "unknown"
        }
       ],
       "ref": "21322139-ffca-4fac-8d96-857eb8673bc6",
       "rows": [
        [
         "3",
         "../../../data_labeling/src/raw_images/797-DQ-full_1000x-1.tif",
         "../../../data_labeling/src/metadata/797-DQ-full_1000x-1.json",
         "8",
         "4"
        ],
        [
         "5",
         "../../../data_labeling/src/raw_images/797-DQ-full_1000x-2.tif",
         "../../../data_labeling/src/metadata/797-DQ-full_1000x-2.json",
         "6",
         "5"
        ]
       ],
       "shape": {
        "columns": 4,
        "rows": 2
       }
      },
      "text/html": [
       "<div>\n",
       "<style scoped>\n",
       "    .dataframe tbody tr th:only-of-type {\n",
       "        vertical-align: middle;\n",
       "    }\n",
       "\n",
       "    .dataframe tbody tr th {\n",
       "        vertical-align: top;\n",
       "    }\n",
       "\n",
       "    .dataframe thead th {\n",
       "        text-align: right;\n",
       "    }\n",
       "</style>\n",
       "<table border=\"1\" class=\"dataframe\">\n",
       "  <thead>\n",
       "    <tr style=\"text-align: right;\">\n",
       "      <th></th>\n",
       "      <th>image_path</th>\n",
       "      <th>json_path</th>\n",
       "      <th>martensite_count</th>\n",
       "      <th>bainite_count</th>\n",
       "    </tr>\n",
       "  </thead>\n",
       "  <tbody>\n",
       "    <tr>\n",
       "      <th>3</th>\n",
       "      <td>../../../data_labeling/src/raw_images/797-DQ-f...</td>\n",
       "      <td>../../../data_labeling/src/metadata/797-DQ-ful...</td>\n",
       "      <td>8</td>\n",
       "      <td>4</td>\n",
       "    </tr>\n",
       "    <tr>\n",
       "      <th>5</th>\n",
       "      <td>../../../data_labeling/src/raw_images/797-DQ-f...</td>\n",
       "      <td>../../../data_labeling/src/metadata/797-DQ-ful...</td>\n",
       "      <td>6</td>\n",
       "      <td>5</td>\n",
       "    </tr>\n",
       "  </tbody>\n",
       "</table>\n",
       "</div>"
      ],
      "text/plain": [
       "                                          image_path  \\\n",
       "3  ../../../data_labeling/src/raw_images/797-DQ-f...   \n",
       "5  ../../../data_labeling/src/raw_images/797-DQ-f...   \n",
       "\n",
       "                                           json_path martensite_count  \\\n",
       "3  ../../../data_labeling/src/metadata/797-DQ-ful...                8   \n",
       "5  ../../../data_labeling/src/metadata/797-DQ-ful...                6   \n",
       "\n",
       "  bainite_count  \n",
       "3             4  \n",
       "5             5  "
      ]
     },
     "execution_count": 2,
     "metadata": {},
     "output_type": "execute_result"
    }
   ],
   "source": [
    "raw_images_df = raw_images_df[raw_images_df['json_path'].notnull()]\n",
    "raw_images_df"
   ]
  },
  {
   "cell_type": "code",
   "execution_count": 3,
   "id": "fd7f0a1b",
   "metadata": {},
   "outputs": [
    {
     "name": "stdout",
     "output_type": "stream",
     "text": [
      "Warning: No JSON path for ../../../data_labeling/src/raw_images/798-DQ-hollow_1000x-1.tif, skipping...\n",
      "Warning: No JSON path for ../../../data_labeling/src/raw_images/798-DQ-hollow_1000x-2.tif, skipping...\n",
      "Warning: No JSON path for ../../../data_labeling/src/raw_images/798-DQ-hollow_1000x-3.tif, skipping...\n",
      "Warning: No JSON path for ../../../data_labeling/src/raw_images/797-DQ-full_1000x-3.tif, skipping...\n",
      "Created 16 segments from 6 images.\n"
     ]
    }
   ],
   "source": [
    "# Initialize the segment dataset\n",
    "segment_dataset = SegmentDataset(dataset_name=\"raw_bainite_segments\",\n",
    "                                  image_data_path=config.RAW_BAINITE_SEGMENTS_DATASET_PATH,\n",
    "                                  image_label_data_path=config.RAW_BAINITE_SEGMENTS_LABELS_DATASET_PATH)\n",
    "# Create the labeled segments\n",
    "labeled_segments_creator = LabeledSegmentsCreator(input_dataset=image_dataset, output_dataset=segment_dataset)\n",
    "labeled_segments_creator.create_segments()"
   ]
  },
  {
   "cell_type": "code",
   "execution_count": 4,
   "id": "1f72b226",
   "metadata": {},
   "outputs": [
    {
     "data": {
      "application/vnd.microsoft.datawrangler.viewer.v0+json": {
       "columns": [
        {
         "name": "index",
         "rawType": "int64",
         "type": "integer"
        },
        {
         "name": "image_path",
         "rawType": "object",
         "type": "string"
        },
        {
         "name": "json_path",
         "rawType": "object",
         "type": "string"
        },
        {
         "name": "label",
         "rawType": "object",
         "type": "string"
        }
       ],
       "ref": "da5c5959-3343-4b74-9ded-a364f5344c01",
       "rows": [
        [
         "0",
         "../../../data_labeling/src/results/raw_bainite_segments/797-DQ-full_1000x-1_martensite_4.png",
         "../../../data_labeling/src/results/raw_bainite_segments/797-DQ-full_1000x-1_martensite_4.json",
         "martensite"
        ],
        [
         "1",
         "../../../data_labeling/src/results/raw_bainite_segments/797-DQ-full_1000x-1_martensite_6.png",
         "../../../data_labeling/src/results/raw_bainite_segments/797-DQ-full_1000x-1_martensite_6.json",
         "martensite"
        ],
        [
         "2",
         "../../../data_labeling/src/results/raw_bainite_segments/797-DQ-full_1000x-2_bainite_15.png",
         "../../../data_labeling/src/results/raw_bainite_segments/797-DQ-full_1000x-2_bainite_15.json",
         "bainite"
        ],
        [
         "3",
         "../../../data_labeling/src/results/raw_bainite_segments/797-DQ-full_1000x-2_bainite_11.png",
         "../../../data_labeling/src/results/raw_bainite_segments/797-DQ-full_1000x-2_bainite_11.json",
         "bainite"
        ],
        [
         "4",
         "../../../data_labeling/src/results/raw_bainite_segments/797-DQ-full_1000x-2_martensite_9.png",
         "../../../data_labeling/src/results/raw_bainite_segments/797-DQ-full_1000x-2_martensite_9.json",
         "martensite"
        ],
        [
         "5",
         "../../../data_labeling/src/results/raw_bainite_segments/797-DQ-full_1000x-2_bainite_10.png",
         "../../../data_labeling/src/results/raw_bainite_segments/797-DQ-full_1000x-2_bainite_10.json",
         "bainite"
        ],
        [
         "6",
         "../../../data_labeling/src/results/raw_bainite_segments/797-DQ-full_1000x-1_bainite_5.png",
         "../../../data_labeling/src/results/raw_bainite_segments/797-DQ-full_1000x-1_bainite_5.json",
         "bainite"
        ],
        [
         "7",
         "../../../data_labeling/src/results/raw_bainite_segments/797-DQ-full_1000x-1_bainite_7.png",
         "../../../data_labeling/src/results/raw_bainite_segments/797-DQ-full_1000x-1_bainite_7.json",
         "bainite"
        ],
        [
         "8",
         "../../../data_labeling/src/results/raw_bainite_segments/797-DQ-full_1000x-2_bainite_13.png",
         "../../../data_labeling/src/results/raw_bainite_segments/797-DQ-full_1000x-2_bainite_13.json",
         "bainite"
        ],
        [
         "9",
         "../../../data_labeling/src/results/raw_bainite_segments/797-DQ-full_1000x-1_bainite_12.png",
         "../../../data_labeling/src/results/raw_bainite_segments/797-DQ-full_1000x-1_bainite_12.json",
         "bainite"
        ],
        [
         "10",
         "../../../data_labeling/src/results/raw_bainite_segments/797-DQ-full_1000x-1_martensite_13.png",
         "../../../data_labeling/src/results/raw_bainite_segments/797-DQ-full_1000x-1_martensite_13.json",
         "martensite"
        ],
        [
         "11",
         "../../../data_labeling/src/results/raw_bainite_segments/797-DQ-full_1000x-1_martensite_10.png",
         "../../../data_labeling/src/results/raw_bainite_segments/797-DQ-full_1000x-1_martensite_10.json",
         "martensite"
        ],
        [
         "12",
         "../../../data_labeling/src/results/raw_bainite_segments/797-DQ-full_1000x-1_martensite_11.png",
         "../../../data_labeling/src/results/raw_bainite_segments/797-DQ-full_1000x-1_martensite_11.json",
         "martensite"
        ],
        [
         "13",
         "../../../data_labeling/src/results/raw_bainite_segments/797-DQ-full_1000x-1_martensite_15.png",
         "../../../data_labeling/src/results/raw_bainite_segments/797-DQ-full_1000x-1_martensite_15.json",
         "martensite"
        ],
        [
         "14",
         "../../../data_labeling/src/results/raw_bainite_segments/797-DQ-full_1000x-1_martensite_14.png",
         "../../../data_labeling/src/results/raw_bainite_segments/797-DQ-full_1000x-1_martensite_14.json",
         "martensite"
        ],
        [
         "15",
         "../../../data_labeling/src/results/raw_bainite_segments/797-DQ-full_1000x-2_martensite_7.png",
         "../../../data_labeling/src/results/raw_bainite_segments/797-DQ-full_1000x-2_martensite_7.json",
         "martensite"
        ],
        [
         "16",
         "../../../data_labeling/src/results/raw_bainite_segments/797-DQ-full_1000x-2_martensite_6.png",
         "../../../data_labeling/src/results/raw_bainite_segments/797-DQ-full_1000x-2_martensite_6.json",
         "martensite"
        ],
        [
         "17",
         "../../../data_labeling/src/results/raw_bainite_segments/797-DQ-full_1000x-2_martensite_14.png",
         "../../../data_labeling/src/results/raw_bainite_segments/797-DQ-full_1000x-2_martensite_14.json",
         "martensite"
        ],
        [
         "18",
         "../../../data_labeling/src/results/raw_bainite_segments/797-DQ-full_1000x-2_martensite_16.png",
         "../../../data_labeling/src/results/raw_bainite_segments/797-DQ-full_1000x-2_martensite_16.json",
         "martensite"
        ],
        [
         "19",
         "../../../data_labeling/src/results/raw_bainite_segments/797-DQ-full_1000x-1_bainite_9.png",
         "../../../data_labeling/src/results/raw_bainite_segments/797-DQ-full_1000x-1_bainite_9.json",
         "bainite"
        ],
        [
         "20",
         "../../../data_labeling/src/results/raw_bainite_segments/797-DQ-full_1000x-2_bainite_8.png",
         "../../../data_labeling/src/results/raw_bainite_segments/797-DQ-full_1000x-2_bainite_8.json",
         "bainite"
        ],
        [
         "21",
         "../../../data_labeling/src/results/raw_bainite_segments/797-DQ-full_1000x-2_martensite_12.png",
         "../../../data_labeling/src/results/raw_bainite_segments/797-DQ-full_1000x-2_martensite_12.json",
         "martensite"
        ],
        [
         "22",
         "../../../data_labeling/src/results/raw_bainite_segments/797-DQ-full_1000x-1_martensite_8.png",
         "../../../data_labeling/src/results/raw_bainite_segments/797-DQ-full_1000x-1_martensite_8.json",
         "martensite"
        ]
       ],
       "shape": {
        "columns": 3,
        "rows": 23
       }
      },
      "text/html": [
       "<div>\n",
       "<style scoped>\n",
       "    .dataframe tbody tr th:only-of-type {\n",
       "        vertical-align: middle;\n",
       "    }\n",
       "\n",
       "    .dataframe tbody tr th {\n",
       "        vertical-align: top;\n",
       "    }\n",
       "\n",
       "    .dataframe thead th {\n",
       "        text-align: right;\n",
       "    }\n",
       "</style>\n",
       "<table border=\"1\" class=\"dataframe\">\n",
       "  <thead>\n",
       "    <tr style=\"text-align: right;\">\n",
       "      <th></th>\n",
       "      <th>image_path</th>\n",
       "      <th>json_path</th>\n",
       "      <th>label</th>\n",
       "    </tr>\n",
       "  </thead>\n",
       "  <tbody>\n",
       "    <tr>\n",
       "      <th>0</th>\n",
       "      <td>../../../data_labeling/src/results/raw_bainite...</td>\n",
       "      <td>../../../data_labeling/src/results/raw_bainite...</td>\n",
       "      <td>martensite</td>\n",
       "    </tr>\n",
       "    <tr>\n",
       "      <th>1</th>\n",
       "      <td>../../../data_labeling/src/results/raw_bainite...</td>\n",
       "      <td>../../../data_labeling/src/results/raw_bainite...</td>\n",
       "      <td>martensite</td>\n",
       "    </tr>\n",
       "    <tr>\n",
       "      <th>2</th>\n",
       "      <td>../../../data_labeling/src/results/raw_bainite...</td>\n",
       "      <td>../../../data_labeling/src/results/raw_bainite...</td>\n",
       "      <td>bainite</td>\n",
       "    </tr>\n",
       "    <tr>\n",
       "      <th>3</th>\n",
       "      <td>../../../data_labeling/src/results/raw_bainite...</td>\n",
       "      <td>../../../data_labeling/src/results/raw_bainite...</td>\n",
       "      <td>bainite</td>\n",
       "    </tr>\n",
       "    <tr>\n",
       "      <th>4</th>\n",
       "      <td>../../../data_labeling/src/results/raw_bainite...</td>\n",
       "      <td>../../../data_labeling/src/results/raw_bainite...</td>\n",
       "      <td>martensite</td>\n",
       "    </tr>\n",
       "    <tr>\n",
       "      <th>5</th>\n",
       "      <td>../../../data_labeling/src/results/raw_bainite...</td>\n",
       "      <td>../../../data_labeling/src/results/raw_bainite...</td>\n",
       "      <td>bainite</td>\n",
       "    </tr>\n",
       "    <tr>\n",
       "      <th>6</th>\n",
       "      <td>../../../data_labeling/src/results/raw_bainite...</td>\n",
       "      <td>../../../data_labeling/src/results/raw_bainite...</td>\n",
       "      <td>bainite</td>\n",
       "    </tr>\n",
       "    <tr>\n",
       "      <th>7</th>\n",
       "      <td>../../../data_labeling/src/results/raw_bainite...</td>\n",
       "      <td>../../../data_labeling/src/results/raw_bainite...</td>\n",
       "      <td>bainite</td>\n",
       "    </tr>\n",
       "    <tr>\n",
       "      <th>8</th>\n",
       "      <td>../../../data_labeling/src/results/raw_bainite...</td>\n",
       "      <td>../../../data_labeling/src/results/raw_bainite...</td>\n",
       "      <td>bainite</td>\n",
       "    </tr>\n",
       "    <tr>\n",
       "      <th>9</th>\n",
       "      <td>../../../data_labeling/src/results/raw_bainite...</td>\n",
       "      <td>../../../data_labeling/src/results/raw_bainite...</td>\n",
       "      <td>bainite</td>\n",
       "    </tr>\n",
       "    <tr>\n",
       "      <th>10</th>\n",
       "      <td>../../../data_labeling/src/results/raw_bainite...</td>\n",
       "      <td>../../../data_labeling/src/results/raw_bainite...</td>\n",
       "      <td>martensite</td>\n",
       "    </tr>\n",
       "    <tr>\n",
       "      <th>11</th>\n",
       "      <td>../../../data_labeling/src/results/raw_bainite...</td>\n",
       "      <td>../../../data_labeling/src/results/raw_bainite...</td>\n",
       "      <td>martensite</td>\n",
       "    </tr>\n",
       "    <tr>\n",
       "      <th>12</th>\n",
       "      <td>../../../data_labeling/src/results/raw_bainite...</td>\n",
       "      <td>../../../data_labeling/src/results/raw_bainite...</td>\n",
       "      <td>martensite</td>\n",
       "    </tr>\n",
       "    <tr>\n",
       "      <th>13</th>\n",
       "      <td>../../../data_labeling/src/results/raw_bainite...</td>\n",
       "      <td>../../../data_labeling/src/results/raw_bainite...</td>\n",
       "      <td>martensite</td>\n",
       "    </tr>\n",
       "    <tr>\n",
       "      <th>14</th>\n",
       "      <td>../../../data_labeling/src/results/raw_bainite...</td>\n",
       "      <td>../../../data_labeling/src/results/raw_bainite...</td>\n",
       "      <td>martensite</td>\n",
       "    </tr>\n",
       "    <tr>\n",
       "      <th>15</th>\n",
       "      <td>../../../data_labeling/src/results/raw_bainite...</td>\n",
       "      <td>../../../data_labeling/src/results/raw_bainite...</td>\n",
       "      <td>martensite</td>\n",
       "    </tr>\n",
       "    <tr>\n",
       "      <th>16</th>\n",
       "      <td>../../../data_labeling/src/results/raw_bainite...</td>\n",
       "      <td>../../../data_labeling/src/results/raw_bainite...</td>\n",
       "      <td>martensite</td>\n",
       "    </tr>\n",
       "    <tr>\n",
       "      <th>17</th>\n",
       "      <td>../../../data_labeling/src/results/raw_bainite...</td>\n",
       "      <td>../../../data_labeling/src/results/raw_bainite...</td>\n",
       "      <td>martensite</td>\n",
       "    </tr>\n",
       "    <tr>\n",
       "      <th>18</th>\n",
       "      <td>../../../data_labeling/src/results/raw_bainite...</td>\n",
       "      <td>../../../data_labeling/src/results/raw_bainite...</td>\n",
       "      <td>martensite</td>\n",
       "    </tr>\n",
       "    <tr>\n",
       "      <th>19</th>\n",
       "      <td>../../../data_labeling/src/results/raw_bainite...</td>\n",
       "      <td>../../../data_labeling/src/results/raw_bainite...</td>\n",
       "      <td>bainite</td>\n",
       "    </tr>\n",
       "    <tr>\n",
       "      <th>20</th>\n",
       "      <td>../../../data_labeling/src/results/raw_bainite...</td>\n",
       "      <td>../../../data_labeling/src/results/raw_bainite...</td>\n",
       "      <td>bainite</td>\n",
       "    </tr>\n",
       "    <tr>\n",
       "      <th>21</th>\n",
       "      <td>../../../data_labeling/src/results/raw_bainite...</td>\n",
       "      <td>../../../data_labeling/src/results/raw_bainite...</td>\n",
       "      <td>martensite</td>\n",
       "    </tr>\n",
       "    <tr>\n",
       "      <th>22</th>\n",
       "      <td>../../../data_labeling/src/results/raw_bainite...</td>\n",
       "      <td>../../../data_labeling/src/results/raw_bainite...</td>\n",
       "      <td>martensite</td>\n",
       "    </tr>\n",
       "  </tbody>\n",
       "</table>\n",
       "</div>"
      ],
      "text/plain": [
       "                                           image_path  \\\n",
       "0   ../../../data_labeling/src/results/raw_bainite...   \n",
       "1   ../../../data_labeling/src/results/raw_bainite...   \n",
       "2   ../../../data_labeling/src/results/raw_bainite...   \n",
       "3   ../../../data_labeling/src/results/raw_bainite...   \n",
       "4   ../../../data_labeling/src/results/raw_bainite...   \n",
       "5   ../../../data_labeling/src/results/raw_bainite...   \n",
       "6   ../../../data_labeling/src/results/raw_bainite...   \n",
       "7   ../../../data_labeling/src/results/raw_bainite...   \n",
       "8   ../../../data_labeling/src/results/raw_bainite...   \n",
       "9   ../../../data_labeling/src/results/raw_bainite...   \n",
       "10  ../../../data_labeling/src/results/raw_bainite...   \n",
       "11  ../../../data_labeling/src/results/raw_bainite...   \n",
       "12  ../../../data_labeling/src/results/raw_bainite...   \n",
       "13  ../../../data_labeling/src/results/raw_bainite...   \n",
       "14  ../../../data_labeling/src/results/raw_bainite...   \n",
       "15  ../../../data_labeling/src/results/raw_bainite...   \n",
       "16  ../../../data_labeling/src/results/raw_bainite...   \n",
       "17  ../../../data_labeling/src/results/raw_bainite...   \n",
       "18  ../../../data_labeling/src/results/raw_bainite...   \n",
       "19  ../../../data_labeling/src/results/raw_bainite...   \n",
       "20  ../../../data_labeling/src/results/raw_bainite...   \n",
       "21  ../../../data_labeling/src/results/raw_bainite...   \n",
       "22  ../../../data_labeling/src/results/raw_bainite...   \n",
       "\n",
       "                                            json_path       label  \n",
       "0   ../../../data_labeling/src/results/raw_bainite...  martensite  \n",
       "1   ../../../data_labeling/src/results/raw_bainite...  martensite  \n",
       "2   ../../../data_labeling/src/results/raw_bainite...     bainite  \n",
       "3   ../../../data_labeling/src/results/raw_bainite...     bainite  \n",
       "4   ../../../data_labeling/src/results/raw_bainite...  martensite  \n",
       "5   ../../../data_labeling/src/results/raw_bainite...     bainite  \n",
       "6   ../../../data_labeling/src/results/raw_bainite...     bainite  \n",
       "7   ../../../data_labeling/src/results/raw_bainite...     bainite  \n",
       "8   ../../../data_labeling/src/results/raw_bainite...     bainite  \n",
       "9   ../../../data_labeling/src/results/raw_bainite...     bainite  \n",
       "10  ../../../data_labeling/src/results/raw_bainite...  martensite  \n",
       "11  ../../../data_labeling/src/results/raw_bainite...  martensite  \n",
       "12  ../../../data_labeling/src/results/raw_bainite...  martensite  \n",
       "13  ../../../data_labeling/src/results/raw_bainite...  martensite  \n",
       "14  ../../../data_labeling/src/results/raw_bainite...  martensite  \n",
       "15  ../../../data_labeling/src/results/raw_bainite...  martensite  \n",
       "16  ../../../data_labeling/src/results/raw_bainite...  martensite  \n",
       "17  ../../../data_labeling/src/results/raw_bainite...  martensite  \n",
       "18  ../../../data_labeling/src/results/raw_bainite...  martensite  \n",
       "19  ../../../data_labeling/src/results/raw_bainite...     bainite  \n",
       "20  ../../../data_labeling/src/results/raw_bainite...     bainite  \n",
       "21  ../../../data_labeling/src/results/raw_bainite...  martensite  \n",
       "22  ../../../data_labeling/src/results/raw_bainite...  martensite  "
      ]
     },
     "execution_count": 4,
     "metadata": {},
     "output_type": "execute_result"
    }
   ],
   "source": [
    "segment_dataset.load_meta_data()"
   ]
  },
  {
   "cell_type": "code",
   "execution_count": null,
   "id": "1706eff3",
   "metadata": {},
   "outputs": [],
   "source": []
  }
 ],
 "metadata": {
  "kernelspec": {
   "display_name": ".venv",
   "language": "python",
   "name": "python3"
  },
  "language_info": {
   "codemirror_mode": {
    "name": "ipython",
    "version": 3
   },
   "file_extension": ".py",
   "mimetype": "text/x-python",
   "name": "python",
   "nbconvert_exporter": "python",
   "pygments_lexer": "ipython3",
   "version": "3.12.7"
  }
 },
 "nbformat": 4,
 "nbformat_minor": 5
}
