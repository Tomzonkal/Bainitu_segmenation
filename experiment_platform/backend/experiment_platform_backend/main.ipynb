{
 "cells": [
  {
   "cell_type": "code",
   "execution_count": 1,
   "id": "310de008",
   "metadata": {},
   "outputs": [
    {
     "data": {
      "application/vnd.microsoft.datawrangler.viewer.v0+json": {
       "columns": [
        {
         "name": "index",
         "rawType": "int64",
         "type": "integer"
        },
        {
         "name": "image_path",
         "rawType": "object",
         "type": "string"
        },
        {
         "name": "json_path",
         "rawType": "object",
         "type": "unknown"
        },
        {
         "name": "martensite_count",
         "rawType": "object",
         "type": "unknown"
        },
        {
         "name": "bainite_count",
         "rawType": "object",
         "type": "unknown"
        }
       ],
       "ref": "b254b827-e0ec-4ec0-b5a6-fc5a969acb3a",
       "rows": [
        [
         "0",
         "../../../data_labeling/src/raw_images/798-DQ-hollow_1000x-1.tif",
         null,
         null,
         null
        ],
        [
         "1",
         "../../../data_labeling/src/raw_images/798-DQ-hollow_1000x-2.tif",
         null,
         null,
         null
        ],
        [
         "2",
         "../../../data_labeling/src/raw_images/798-DQ-hollow_1000x-3.tif",
         null,
         null,
         null
        ],
        [
         "3",
         "../../../data_labeling/src/raw_images/797-DQ-full_1000x-1.tif",
         "../../../data_labeling/src/metadata/797-DQ-full_1000x-1.json",
         "8",
         "4"
        ],
        [
         "4",
         "../../../data_labeling/src/raw_images/797-DQ-full_1000x-3.tif",
         null,
         null,
         null
        ],
        [
         "5",
         "../../../data_labeling/src/raw_images/797-DQ-full_1000x-2.tif",
         "../../../data_labeling/src/metadata/797-DQ-full_1000x-2.json",
         "6",
         "5"
        ]
       ],
       "shape": {
        "columns": 4,
        "rows": 6
       }
      },
      "text/html": [
       "<div>\n",
       "<style scoped>\n",
       "    .dataframe tbody tr th:only-of-type {\n",
       "        vertical-align: middle;\n",
       "    }\n",
       "\n",
       "    .dataframe tbody tr th {\n",
       "        vertical-align: top;\n",
       "    }\n",
       "\n",
       "    .dataframe thead th {\n",
       "        text-align: right;\n",
       "    }\n",
       "</style>\n",
       "<table border=\"1\" class=\"dataframe\">\n",
       "  <thead>\n",
       "    <tr style=\"text-align: right;\">\n",
       "      <th></th>\n",
       "      <th>image_path</th>\n",
       "      <th>json_path</th>\n",
       "      <th>martensite_count</th>\n",
       "      <th>bainite_count</th>\n",
       "    </tr>\n",
       "  </thead>\n",
       "  <tbody>\n",
       "    <tr>\n",
       "      <th>0</th>\n",
       "      <td>../../../data_labeling/src/raw_images/798-DQ-h...</td>\n",
       "      <td>None</td>\n",
       "      <td>None</td>\n",
       "      <td>None</td>\n",
       "    </tr>\n",
       "    <tr>\n",
       "      <th>1</th>\n",
       "      <td>../../../data_labeling/src/raw_images/798-DQ-h...</td>\n",
       "      <td>None</td>\n",
       "      <td>None</td>\n",
       "      <td>None</td>\n",
       "    </tr>\n",
       "    <tr>\n",
       "      <th>2</th>\n",
       "      <td>../../../data_labeling/src/raw_images/798-DQ-h...</td>\n",
       "      <td>None</td>\n",
       "      <td>None</td>\n",
       "      <td>None</td>\n",
       "    </tr>\n",
       "    <tr>\n",
       "      <th>3</th>\n",
       "      <td>../../../data_labeling/src/raw_images/797-DQ-f...</td>\n",
       "      <td>../../../data_labeling/src/metadata/797-DQ-ful...</td>\n",
       "      <td>8</td>\n",
       "      <td>4</td>\n",
       "    </tr>\n",
       "    <tr>\n",
       "      <th>4</th>\n",
       "      <td>../../../data_labeling/src/raw_images/797-DQ-f...</td>\n",
       "      <td>None</td>\n",
       "      <td>None</td>\n",
       "      <td>None</td>\n",
       "    </tr>\n",
       "    <tr>\n",
       "      <th>5</th>\n",
       "      <td>../../../data_labeling/src/raw_images/797-DQ-f...</td>\n",
       "      <td>../../../data_labeling/src/metadata/797-DQ-ful...</td>\n",
       "      <td>6</td>\n",
       "      <td>5</td>\n",
       "    </tr>\n",
       "  </tbody>\n",
       "</table>\n",
       "</div>"
      ],
      "text/plain": [
       "                                          image_path  \\\n",
       "0  ../../../data_labeling/src/raw_images/798-DQ-h...   \n",
       "1  ../../../data_labeling/src/raw_images/798-DQ-h...   \n",
       "2  ../../../data_labeling/src/raw_images/798-DQ-h...   \n",
       "3  ../../../data_labeling/src/raw_images/797-DQ-f...   \n",
       "4  ../../../data_labeling/src/raw_images/797-DQ-f...   \n",
       "5  ../../../data_labeling/src/raw_images/797-DQ-f...   \n",
       "\n",
       "                                           json_path martensite_count  \\\n",
       "0                                               None             None   \n",
       "1                                               None             None   \n",
       "2                                               None             None   \n",
       "3  ../../../data_labeling/src/metadata/797-DQ-ful...                8   \n",
       "4                                               None             None   \n",
       "5  ../../../data_labeling/src/metadata/797-DQ-ful...                6   \n",
       "\n",
       "  bainite_count  \n",
       "0          None  \n",
       "1          None  \n",
       "2          None  \n",
       "3             4  \n",
       "4          None  \n",
       "5             5  "
      ]
     },
     "execution_count": 1,
     "metadata": {},
     "output_type": "execute_result"
    }
   ],
   "source": [
    "from curses import raw\n",
    "from datasets import ImageDataset, SegmentDataset\n",
    "from preprocessors import LabeledSegmentsCreator,SuperpixelSegmentsCreator\n",
    "from models import HistogramBaseModel\n",
    "import config\n",
    "import numpy as np\n",
    "# Initialize the image dataset with the specified paths\n",
    "image_dataset=ImageDataset(dataset_name=\"raw_bainite_dataset\",\n",
    "                 image_data_path=config.RAW_BAINITE_IMAGE_DATASET_PATH,\n",
    "                 image_label_data_path=config.RAW_BAINITE_LABEL_DATASET_PATH,\n",
    "    )\n",
    "raw_images_df=image_dataset.load_meta_data()\n",
    "raw_images_df "
   ]
  },
  {
   "cell_type": "code",
   "execution_count": 2,
   "id": "61eaa640",
   "metadata": {},
   "outputs": [
    {
     "data": {
      "application/vnd.microsoft.datawrangler.viewer.v0+json": {
       "columns": [
        {
         "name": "index",
         "rawType": "int64",
         "type": "integer"
        },
        {
         "name": "image_path",
         "rawType": "object",
         "type": "string"
        },
        {
         "name": "json_path",
         "rawType": "object",
         "type": "string"
        },
        {
         "name": "martensite_count",
         "rawType": "object",
         "type": "unknown"
        },
        {
         "name": "bainite_count",
         "rawType": "object",
         "type": "unknown"
        }
       ],
       "ref": "b4ae4cba-68a2-46bb-b80c-4065aa2c6d5e",
       "rows": [
        [
         "3",
         "../../../data_labeling/src/raw_images/797-DQ-full_1000x-1.tif",
         "../../../data_labeling/src/metadata/797-DQ-full_1000x-1.json",
         "8",
         "4"
        ],
        [
         "5",
         "../../../data_labeling/src/raw_images/797-DQ-full_1000x-2.tif",
         "../../../data_labeling/src/metadata/797-DQ-full_1000x-2.json",
         "6",
         "5"
        ]
       ],
       "shape": {
        "columns": 4,
        "rows": 2
       }
      },
      "text/html": [
       "<div>\n",
       "<style scoped>\n",
       "    .dataframe tbody tr th:only-of-type {\n",
       "        vertical-align: middle;\n",
       "    }\n",
       "\n",
       "    .dataframe tbody tr th {\n",
       "        vertical-align: top;\n",
       "    }\n",
       "\n",
       "    .dataframe thead th {\n",
       "        text-align: right;\n",
       "    }\n",
       "</style>\n",
       "<table border=\"1\" class=\"dataframe\">\n",
       "  <thead>\n",
       "    <tr style=\"text-align: right;\">\n",
       "      <th></th>\n",
       "      <th>image_path</th>\n",
       "      <th>json_path</th>\n",
       "      <th>martensite_count</th>\n",
       "      <th>bainite_count</th>\n",
       "    </tr>\n",
       "  </thead>\n",
       "  <tbody>\n",
       "    <tr>\n",
       "      <th>3</th>\n",
       "      <td>../../../data_labeling/src/raw_images/797-DQ-f...</td>\n",
       "      <td>../../../data_labeling/src/metadata/797-DQ-ful...</td>\n",
       "      <td>8</td>\n",
       "      <td>4</td>\n",
       "    </tr>\n",
       "    <tr>\n",
       "      <th>5</th>\n",
       "      <td>../../../data_labeling/src/raw_images/797-DQ-f...</td>\n",
       "      <td>../../../data_labeling/src/metadata/797-DQ-ful...</td>\n",
       "      <td>6</td>\n",
       "      <td>5</td>\n",
       "    </tr>\n",
       "  </tbody>\n",
       "</table>\n",
       "</div>"
      ],
      "text/plain": [
       "                                          image_path  \\\n",
       "3  ../../../data_labeling/src/raw_images/797-DQ-f...   \n",
       "5  ../../../data_labeling/src/raw_images/797-DQ-f...   \n",
       "\n",
       "                                           json_path martensite_count  \\\n",
       "3  ../../../data_labeling/src/metadata/797-DQ-ful...                8   \n",
       "5  ../../../data_labeling/src/metadata/797-DQ-ful...                6   \n",
       "\n",
       "  bainite_count  \n",
       "3             4  \n",
       "5             5  "
      ]
     },
     "execution_count": 2,
     "metadata": {},
     "output_type": "execute_result"
    }
   ],
   "source": [
    "raw_images_df = raw_images_df[raw_images_df['json_path'].notnull()]\n",
    "raw_images_df"
   ]
  },
  {
   "cell_type": "code",
   "execution_count": 3,
   "id": "fd7f0a1b",
   "metadata": {},
   "outputs": [
    {
     "name": "stdout",
     "output_type": "stream",
     "text": [
      "Warning: No JSON path for ../../../data_labeling/src/raw_images/798-DQ-hollow_1000x-1.tif, skipping...\n",
      "Warning: No JSON path for ../../../data_labeling/src/raw_images/798-DQ-hollow_1000x-2.tif, skipping...\n",
      "Warning: No JSON path for ../../../data_labeling/src/raw_images/798-DQ-hollow_1000x-3.tif, skipping...\n",
      "Warning: No JSON path for ../../../data_labeling/src/raw_images/797-DQ-full_1000x-3.tif, skipping...\n",
      "Created 16 segments from 6 images.\n"
     ]
    }
   ],
   "source": [
    "# Initialize the segment dataset\n",
    "segment_dataset = SegmentDataset(dataset_name=\"raw_bainite_segments\",\n",
    "                                  image_data_path=config.RAW_BAINITE_SEGMENTS_DATASET_PATH,\n",
    "                                  image_label_data_path=config.RAW_BAINITE_SEGMENTS_LABELS_DATASET_PATH)\n",
    "# Create the labeled segments\n",
    "labeled_segments_creator = LabeledSegmentsCreator(input_dataset=image_dataset, output_dataset=segment_dataset)\n",
    "labeled_segments_creator.create_segments()"
   ]
  },
  {
   "cell_type": "code",
   "execution_count": 4,
   "id": "1f72b226",
   "metadata": {},
   "outputs": [
    {
     "data": {
      "application/vnd.microsoft.datawrangler.viewer.v0+json": {
       "columns": [
        {
         "name": "index",
         "rawType": "int64",
         "type": "integer"
        },
        {
         "name": "image_path",
         "rawType": "object",
         "type": "string"
        },
        {
         "name": "json_path",
         "rawType": "object",
         "type": "string"
        },
        {
         "name": "label",
         "rawType": "object",
         "type": "string"
        }
       ],
       "ref": "aa2c2038-792e-442c-ad5b-46394b4b8826",
       "rows": [
        [
         "0",
         "../../../data_labeling/src/results/raw_bainite_segments/797-DQ-full_1000x-1_martensite_4.png",
         "../../../data_labeling/src/results/raw_bainite_segments/797-DQ-full_1000x-1_martensite_4.json",
         "martensite"
        ],
        [
         "1",
         "../../../data_labeling/src/results/raw_bainite_segments/797-DQ-full_1000x-1_martensite_6.png",
         "../../../data_labeling/src/results/raw_bainite_segments/797-DQ-full_1000x-1_martensite_6.json",
         "martensite"
        ],
        [
         "2",
         "../../../data_labeling/src/results/raw_bainite_segments/797-DQ-full_1000x-2_bainite_15.png",
         "../../../data_labeling/src/results/raw_bainite_segments/797-DQ-full_1000x-2_bainite_15.json",
         "bainite"
        ],
        [
         "3",
         "../../../data_labeling/src/results/raw_bainite_segments/797-DQ-full_1000x-2_bainite_11.png",
         "../../../data_labeling/src/results/raw_bainite_segments/797-DQ-full_1000x-2_bainite_11.json",
         "bainite"
        ],
        [
         "4",
         "../../../data_labeling/src/results/raw_bainite_segments/797-DQ-full_1000x-2_martensite_9.png",
         "../../../data_labeling/src/results/raw_bainite_segments/797-DQ-full_1000x-2_martensite_9.json",
         "martensite"
        ],
        [
         "5",
         "../../../data_labeling/src/results/raw_bainite_segments/797-DQ-full_1000x-2_bainite_10.png",
         "../../../data_labeling/src/results/raw_bainite_segments/797-DQ-full_1000x-2_bainite_10.json",
         "bainite"
        ],
        [
         "6",
         "../../../data_labeling/src/results/raw_bainite_segments/797-DQ-full_1000x-1_bainite_5.png",
         "../../../data_labeling/src/results/raw_bainite_segments/797-DQ-full_1000x-1_bainite_5.json",
         "bainite"
        ],
        [
         "7",
         "../../../data_labeling/src/results/raw_bainite_segments/797-DQ-full_1000x-1_bainite_7.png",
         "../../../data_labeling/src/results/raw_bainite_segments/797-DQ-full_1000x-1_bainite_7.json",
         "bainite"
        ],
        [
         "8",
         "../../../data_labeling/src/results/raw_bainite_segments/797-DQ-full_1000x-2_bainite_13.png",
         "../../../data_labeling/src/results/raw_bainite_segments/797-DQ-full_1000x-2_bainite_13.json",
         "bainite"
        ],
        [
         "9",
         "../../../data_labeling/src/results/raw_bainite_segments/797-DQ-full_1000x-1_bainite_12.png",
         "../../../data_labeling/src/results/raw_bainite_segments/797-DQ-full_1000x-1_bainite_12.json",
         "bainite"
        ],
        [
         "10",
         "../../../data_labeling/src/results/raw_bainite_segments/797-DQ-full_1000x-1_martensite_13.png",
         "../../../data_labeling/src/results/raw_bainite_segments/797-DQ-full_1000x-1_martensite_13.json",
         "martensite"
        ],
        [
         "11",
         "../../../data_labeling/src/results/raw_bainite_segments/797-DQ-full_1000x-1_martensite_10.png",
         "../../../data_labeling/src/results/raw_bainite_segments/797-DQ-full_1000x-1_martensite_10.json",
         "martensite"
        ],
        [
         "12",
         "../../../data_labeling/src/results/raw_bainite_segments/797-DQ-full_1000x-1_martensite_11.png",
         "../../../data_labeling/src/results/raw_bainite_segments/797-DQ-full_1000x-1_martensite_11.json",
         "martensite"
        ],
        [
         "13",
         "../../../data_labeling/src/results/raw_bainite_segments/797-DQ-full_1000x-1_martensite_15.png",
         "../../../data_labeling/src/results/raw_bainite_segments/797-DQ-full_1000x-1_martensite_15.json",
         "martensite"
        ],
        [
         "14",
         "../../../data_labeling/src/results/raw_bainite_segments/797-DQ-full_1000x-1_martensite_14.png",
         "../../../data_labeling/src/results/raw_bainite_segments/797-DQ-full_1000x-1_martensite_14.json",
         "martensite"
        ],
        [
         "15",
         "../../../data_labeling/src/results/raw_bainite_segments/797-DQ-full_1000x-2_martensite_7.png",
         "../../../data_labeling/src/results/raw_bainite_segments/797-DQ-full_1000x-2_martensite_7.json",
         "martensite"
        ],
        [
         "16",
         "../../../data_labeling/src/results/raw_bainite_segments/797-DQ-full_1000x-2_martensite_6.png",
         "../../../data_labeling/src/results/raw_bainite_segments/797-DQ-full_1000x-2_martensite_6.json",
         "martensite"
        ],
        [
         "17",
         "../../../data_labeling/src/results/raw_bainite_segments/797-DQ-full_1000x-2_martensite_14.png",
         "../../../data_labeling/src/results/raw_bainite_segments/797-DQ-full_1000x-2_martensite_14.json",
         "martensite"
        ],
        [
         "18",
         "../../../data_labeling/src/results/raw_bainite_segments/797-DQ-full_1000x-2_martensite_16.png",
         "../../../data_labeling/src/results/raw_bainite_segments/797-DQ-full_1000x-2_martensite_16.json",
         "martensite"
        ],
        [
         "19",
         "../../../data_labeling/src/results/raw_bainite_segments/797-DQ-full_1000x-1_bainite_9.png",
         "../../../data_labeling/src/results/raw_bainite_segments/797-DQ-full_1000x-1_bainite_9.json",
         "bainite"
        ],
        [
         "20",
         "../../../data_labeling/src/results/raw_bainite_segments/797-DQ-full_1000x-2_bainite_8.png",
         "../../../data_labeling/src/results/raw_bainite_segments/797-DQ-full_1000x-2_bainite_8.json",
         "bainite"
        ],
        [
         "21",
         "../../../data_labeling/src/results/raw_bainite_segments/797-DQ-full_1000x-2_martensite_12.png",
         "../../../data_labeling/src/results/raw_bainite_segments/797-DQ-full_1000x-2_martensite_12.json",
         "martensite"
        ],
        [
         "22",
         "../../../data_labeling/src/results/raw_bainite_segments/797-DQ-full_1000x-1_martensite_8.png",
         "../../../data_labeling/src/results/raw_bainite_segments/797-DQ-full_1000x-1_martensite_8.json",
         "martensite"
        ]
       ],
       "shape": {
        "columns": 3,
        "rows": 23
       }
      },
      "text/html": [
       "<div>\n",
       "<style scoped>\n",
       "    .dataframe tbody tr th:only-of-type {\n",
       "        vertical-align: middle;\n",
       "    }\n",
       "\n",
       "    .dataframe tbody tr th {\n",
       "        vertical-align: top;\n",
       "    }\n",
       "\n",
       "    .dataframe thead th {\n",
       "        text-align: right;\n",
       "    }\n",
       "</style>\n",
       "<table border=\"1\" class=\"dataframe\">\n",
       "  <thead>\n",
       "    <tr style=\"text-align: right;\">\n",
       "      <th></th>\n",
       "      <th>image_path</th>\n",
       "      <th>json_path</th>\n",
       "      <th>label</th>\n",
       "    </tr>\n",
       "  </thead>\n",
       "  <tbody>\n",
       "    <tr>\n",
       "      <th>0</th>\n",
       "      <td>../../../data_labeling/src/results/raw_bainite...</td>\n",
       "      <td>../../../data_labeling/src/results/raw_bainite...</td>\n",
       "      <td>martensite</td>\n",
       "    </tr>\n",
       "    <tr>\n",
       "      <th>1</th>\n",
       "      <td>../../../data_labeling/src/results/raw_bainite...</td>\n",
       "      <td>../../../data_labeling/src/results/raw_bainite...</td>\n",
       "      <td>martensite</td>\n",
       "    </tr>\n",
       "    <tr>\n",
       "      <th>2</th>\n",
       "      <td>../../../data_labeling/src/results/raw_bainite...</td>\n",
       "      <td>../../../data_labeling/src/results/raw_bainite...</td>\n",
       "      <td>bainite</td>\n",
       "    </tr>\n",
       "    <tr>\n",
       "      <th>3</th>\n",
       "      <td>../../../data_labeling/src/results/raw_bainite...</td>\n",
       "      <td>../../../data_labeling/src/results/raw_bainite...</td>\n",
       "      <td>bainite</td>\n",
       "    </tr>\n",
       "    <tr>\n",
       "      <th>4</th>\n",
       "      <td>../../../data_labeling/src/results/raw_bainite...</td>\n",
       "      <td>../../../data_labeling/src/results/raw_bainite...</td>\n",
       "      <td>martensite</td>\n",
       "    </tr>\n",
       "    <tr>\n",
       "      <th>5</th>\n",
       "      <td>../../../data_labeling/src/results/raw_bainite...</td>\n",
       "      <td>../../../data_labeling/src/results/raw_bainite...</td>\n",
       "      <td>bainite</td>\n",
       "    </tr>\n",
       "    <tr>\n",
       "      <th>6</th>\n",
       "      <td>../../../data_labeling/src/results/raw_bainite...</td>\n",
       "      <td>../../../data_labeling/src/results/raw_bainite...</td>\n",
       "      <td>bainite</td>\n",
       "    </tr>\n",
       "    <tr>\n",
       "      <th>7</th>\n",
       "      <td>../../../data_labeling/src/results/raw_bainite...</td>\n",
       "      <td>../../../data_labeling/src/results/raw_bainite...</td>\n",
       "      <td>bainite</td>\n",
       "    </tr>\n",
       "    <tr>\n",
       "      <th>8</th>\n",
       "      <td>../../../data_labeling/src/results/raw_bainite...</td>\n",
       "      <td>../../../data_labeling/src/results/raw_bainite...</td>\n",
       "      <td>bainite</td>\n",
       "    </tr>\n",
       "    <tr>\n",
       "      <th>9</th>\n",
       "      <td>../../../data_labeling/src/results/raw_bainite...</td>\n",
       "      <td>../../../data_labeling/src/results/raw_bainite...</td>\n",
       "      <td>bainite</td>\n",
       "    </tr>\n",
       "    <tr>\n",
       "      <th>10</th>\n",
       "      <td>../../../data_labeling/src/results/raw_bainite...</td>\n",
       "      <td>../../../data_labeling/src/results/raw_bainite...</td>\n",
       "      <td>martensite</td>\n",
       "    </tr>\n",
       "    <tr>\n",
       "      <th>11</th>\n",
       "      <td>../../../data_labeling/src/results/raw_bainite...</td>\n",
       "      <td>../../../data_labeling/src/results/raw_bainite...</td>\n",
       "      <td>martensite</td>\n",
       "    </tr>\n",
       "    <tr>\n",
       "      <th>12</th>\n",
       "      <td>../../../data_labeling/src/results/raw_bainite...</td>\n",
       "      <td>../../../data_labeling/src/results/raw_bainite...</td>\n",
       "      <td>martensite</td>\n",
       "    </tr>\n",
       "    <tr>\n",
       "      <th>13</th>\n",
       "      <td>../../../data_labeling/src/results/raw_bainite...</td>\n",
       "      <td>../../../data_labeling/src/results/raw_bainite...</td>\n",
       "      <td>martensite</td>\n",
       "    </tr>\n",
       "    <tr>\n",
       "      <th>14</th>\n",
       "      <td>../../../data_labeling/src/results/raw_bainite...</td>\n",
       "      <td>../../../data_labeling/src/results/raw_bainite...</td>\n",
       "      <td>martensite</td>\n",
       "    </tr>\n",
       "    <tr>\n",
       "      <th>15</th>\n",
       "      <td>../../../data_labeling/src/results/raw_bainite...</td>\n",
       "      <td>../../../data_labeling/src/results/raw_bainite...</td>\n",
       "      <td>martensite</td>\n",
       "    </tr>\n",
       "    <tr>\n",
       "      <th>16</th>\n",
       "      <td>../../../data_labeling/src/results/raw_bainite...</td>\n",
       "      <td>../../../data_labeling/src/results/raw_bainite...</td>\n",
       "      <td>martensite</td>\n",
       "    </tr>\n",
       "    <tr>\n",
       "      <th>17</th>\n",
       "      <td>../../../data_labeling/src/results/raw_bainite...</td>\n",
       "      <td>../../../data_labeling/src/results/raw_bainite...</td>\n",
       "      <td>martensite</td>\n",
       "    </tr>\n",
       "    <tr>\n",
       "      <th>18</th>\n",
       "      <td>../../../data_labeling/src/results/raw_bainite...</td>\n",
       "      <td>../../../data_labeling/src/results/raw_bainite...</td>\n",
       "      <td>martensite</td>\n",
       "    </tr>\n",
       "    <tr>\n",
       "      <th>19</th>\n",
       "      <td>../../../data_labeling/src/results/raw_bainite...</td>\n",
       "      <td>../../../data_labeling/src/results/raw_bainite...</td>\n",
       "      <td>bainite</td>\n",
       "    </tr>\n",
       "    <tr>\n",
       "      <th>20</th>\n",
       "      <td>../../../data_labeling/src/results/raw_bainite...</td>\n",
       "      <td>../../../data_labeling/src/results/raw_bainite...</td>\n",
       "      <td>bainite</td>\n",
       "    </tr>\n",
       "    <tr>\n",
       "      <th>21</th>\n",
       "      <td>../../../data_labeling/src/results/raw_bainite...</td>\n",
       "      <td>../../../data_labeling/src/results/raw_bainite...</td>\n",
       "      <td>martensite</td>\n",
       "    </tr>\n",
       "    <tr>\n",
       "      <th>22</th>\n",
       "      <td>../../../data_labeling/src/results/raw_bainite...</td>\n",
       "      <td>../../../data_labeling/src/results/raw_bainite...</td>\n",
       "      <td>martensite</td>\n",
       "    </tr>\n",
       "  </tbody>\n",
       "</table>\n",
       "</div>"
      ],
      "text/plain": [
       "                                           image_path  \\\n",
       "0   ../../../data_labeling/src/results/raw_bainite...   \n",
       "1   ../../../data_labeling/src/results/raw_bainite...   \n",
       "2   ../../../data_labeling/src/results/raw_bainite...   \n",
       "3   ../../../data_labeling/src/results/raw_bainite...   \n",
       "4   ../../../data_labeling/src/results/raw_bainite...   \n",
       "5   ../../../data_labeling/src/results/raw_bainite...   \n",
       "6   ../../../data_labeling/src/results/raw_bainite...   \n",
       "7   ../../../data_labeling/src/results/raw_bainite...   \n",
       "8   ../../../data_labeling/src/results/raw_bainite...   \n",
       "9   ../../../data_labeling/src/results/raw_bainite...   \n",
       "10  ../../../data_labeling/src/results/raw_bainite...   \n",
       "11  ../../../data_labeling/src/results/raw_bainite...   \n",
       "12  ../../../data_labeling/src/results/raw_bainite...   \n",
       "13  ../../../data_labeling/src/results/raw_bainite...   \n",
       "14  ../../../data_labeling/src/results/raw_bainite...   \n",
       "15  ../../../data_labeling/src/results/raw_bainite...   \n",
       "16  ../../../data_labeling/src/results/raw_bainite...   \n",
       "17  ../../../data_labeling/src/results/raw_bainite...   \n",
       "18  ../../../data_labeling/src/results/raw_bainite...   \n",
       "19  ../../../data_labeling/src/results/raw_bainite...   \n",
       "20  ../../../data_labeling/src/results/raw_bainite...   \n",
       "21  ../../../data_labeling/src/results/raw_bainite...   \n",
       "22  ../../../data_labeling/src/results/raw_bainite...   \n",
       "\n",
       "                                            json_path       label  \n",
       "0   ../../../data_labeling/src/results/raw_bainite...  martensite  \n",
       "1   ../../../data_labeling/src/results/raw_bainite...  martensite  \n",
       "2   ../../../data_labeling/src/results/raw_bainite...     bainite  \n",
       "3   ../../../data_labeling/src/results/raw_bainite...     bainite  \n",
       "4   ../../../data_labeling/src/results/raw_bainite...  martensite  \n",
       "5   ../../../data_labeling/src/results/raw_bainite...     bainite  \n",
       "6   ../../../data_labeling/src/results/raw_bainite...     bainite  \n",
       "7   ../../../data_labeling/src/results/raw_bainite...     bainite  \n",
       "8   ../../../data_labeling/src/results/raw_bainite...     bainite  \n",
       "9   ../../../data_labeling/src/results/raw_bainite...     bainite  \n",
       "10  ../../../data_labeling/src/results/raw_bainite...  martensite  \n",
       "11  ../../../data_labeling/src/results/raw_bainite...  martensite  \n",
       "12  ../../../data_labeling/src/results/raw_bainite...  martensite  \n",
       "13  ../../../data_labeling/src/results/raw_bainite...  martensite  \n",
       "14  ../../../data_labeling/src/results/raw_bainite...  martensite  \n",
       "15  ../../../data_labeling/src/results/raw_bainite...  martensite  \n",
       "16  ../../../data_labeling/src/results/raw_bainite...  martensite  \n",
       "17  ../../../data_labeling/src/results/raw_bainite...  martensite  \n",
       "18  ../../../data_labeling/src/results/raw_bainite...  martensite  \n",
       "19  ../../../data_labeling/src/results/raw_bainite...     bainite  \n",
       "20  ../../../data_labeling/src/results/raw_bainite...     bainite  \n",
       "21  ../../../data_labeling/src/results/raw_bainite...  martensite  \n",
       "22  ../../../data_labeling/src/results/raw_bainite...  martensite  "
      ]
     },
     "execution_count": 4,
     "metadata": {},
     "output_type": "execute_result"
    }
   ],
   "source": [
    "segment_dataset.load_meta_data()"
   ]
  },
  {
   "cell_type": "markdown",
   "id": "f37ccc6c",
   "metadata": {},
   "source": []
  },
  {
   "cell_type": "code",
   "execution_count": 5,
   "id": "1706eff3",
   "metadata": {},
   "outputs": [],
   "source": [
    "superpixel_segment_dataset = SegmentDataset(dataset_name=\"superpixel_bainite_segments\",\n",
    "                                  image_data_path=config.SUPERPIXEL_BAINITE_SEGMENTS_DATASET_PATH,\n",
    "                                  image_label_data_path=config.SUPERPIXEL_BAINITE_SEGMENTS_LABELS_DATASET_PATH)"
   ]
  },
  {
   "cell_type": "code",
   "execution_count": 6,
   "id": "22b2fd5b",
   "metadata": {},
   "outputs": [
    {
     "name": "stdout",
     "output_type": "stream",
     "text": [
      "Skipping segment 2 for label martensite due to insufficient size or mean intensity.\n",
      "Skipping segment 3 for label martensite due to insufficient size or mean intensity.\n",
      "Skipping segment 4 for label martensite due to insufficient size or mean intensity.\n",
      "Skipping segment 2 for label bainite due to insufficient size or mean intensity.\n",
      "Skipping segment 1 for label martensite due to insufficient size or mean intensity.\n",
      "Skipping segment 4 for label martensite due to insufficient size or mean intensity.\n",
      "Skipping segment 5 for label martensite due to insufficient size or mean intensity.\n",
      "Skipping segment 6 for label martensite due to insufficient size or mean intensity.\n",
      "Skipping segment 1 for label bainite due to insufficient size or mean intensity.\n",
      "Skipping segment 3 for label bainite due to insufficient size or mean intensity.\n",
      "Skipping segment 2 for label bainite due to insufficient size or mean intensity.\n",
      "Skipping segment 4 for label bainite due to insufficient size or mean intensity.\n",
      "Skipping segment 7 for label bainite due to insufficient size or mean intensity.\n",
      "Skipping segment 8 for label bainite due to insufficient size or mean intensity.\n",
      "Skipping segment 2 for label bainite due to insufficient size or mean intensity.\n",
      "Skipping segment 6 for label bainite due to insufficient size or mean intensity.\n",
      "Skipping segment 10 for label bainite due to insufficient size or mean intensity.\n",
      "Skipping segment 13 for label bainite due to insufficient size or mean intensity.\n",
      "Skipping segment 15 for label bainite due to insufficient size or mean intensity.\n",
      "Skipping segment 16 for label bainite due to insufficient size or mean intensity.\n",
      "Skipping segment 18 for label bainite due to insufficient size or mean intensity.\n",
      "Skipping segment 19 for label bainite due to insufficient size or mean intensity.\n",
      "Skipping segment 20 for label bainite due to insufficient size or mean intensity.\n",
      "Skipping segment 21 for label bainite due to insufficient size or mean intensity.\n",
      "Skipping segment 22 for label bainite due to insufficient size or mean intensity.\n",
      "Skipping segment 1 for label martensite due to insufficient size or mean intensity.\n",
      "Skipping segment 2 for label martensite due to insufficient size or mean intensity.\n",
      "Skipping segment 3 for label martensite due to insufficient size or mean intensity.\n",
      "Skipping segment 2 for label martensite due to insufficient size or mean intensity.\n",
      "Skipping segment 2 for label martensite due to insufficient size or mean intensity.\n",
      "Skipping segment 4 for label martensite due to insufficient size or mean intensity.\n",
      "Skipping segment 2 for label martensite due to insufficient size or mean intensity.\n",
      "Skipping segment 2 for label martensite due to insufficient size or mean intensity.\n",
      "Skipping segment 3 for label martensite due to insufficient size or mean intensity.\n",
      "Skipping segment 1 for label martensite due to insufficient size or mean intensity.\n",
      "Skipping segment 2 for label martensite due to insufficient size or mean intensity.\n",
      "Skipping segment 5 for label martensite due to insufficient size or mean intensity.\n",
      "Skipping segment 7 for label martensite due to insufficient size or mean intensity.\n",
      "Skipping segment 2 for label bainite due to insufficient size or mean intensity.\n",
      "Skipping segment 3 for label bainite due to insufficient size or mean intensity.\n",
      "Skipping segment 4 for label bainite due to insufficient size or mean intensity.\n",
      "Skipping segment 5 for label bainite due to insufficient size or mean intensity.\n",
      "Skipping segment 3 for label martensite due to insufficient size or mean intensity.\n",
      "Skipping segment 5 for label martensite due to insufficient size or mean intensity.\n",
      "Skipping segment 1 for label martensite due to insufficient size or mean intensity.\n",
      "Skipping segment 3 for label martensite due to insufficient size or mean intensity.\n"
     ]
    }
   ],
   "source": [
    "labeled_segments_creator = SuperpixelSegmentsCreator(input_dataset=segment_dataset, output_dataset=superpixel_segment_dataset)\n",
    "labeled_segments_creator.create_segments()"
   ]
  },
  {
   "cell_type": "code",
   "execution_count": 7,
   "id": "17f93850",
   "metadata": {},
   "outputs": [
    {
     "data": {
      "application/vnd.microsoft.datawrangler.viewer.v0+json": {
       "columns": [
        {
         "name": "index",
         "rawType": "int64",
         "type": "integer"
        },
        {
         "name": "image_path",
         "rawType": "object",
         "type": "string"
        },
        {
         "name": "json_path",
         "rawType": "object",
         "type": "string"
        },
        {
         "name": "label",
         "rawType": "object",
         "type": "string"
        }
       ],
       "ref": "efa9b53f-2723-427d-8bbf-365c3d7b81ec",
       "rows": [
        [
         "0",
         "../../../data_labeling/src/results/superpixel_bainite_segments/797-DQ-full_1000x-2_bainite_13_bainite_superpixel_segment3.png",
         "../../../data_labeling/src/results/superpixel_bainite_segments/797-DQ-full_1000x-2_bainite_13_bainite_superpixel_segment3.json",
         "bainite"
        ],
        [
         "1",
         "../../../data_labeling/src/results/superpixel_bainite_segments/797-DQ-full_1000x-1_martensite_10_martensite_superpixel_segment0.png",
         "../../../data_labeling/src/results/superpixel_bainite_segments/797-DQ-full_1000x-1_martensite_10_martensite_superpixel_segment0.json",
         "martensite"
        ],
        [
         "2",
         "../../../data_labeling/src/results/superpixel_bainite_segments/797-DQ-full_1000x-2_bainite_13_bainite_superpixel_segment2.png",
         "../../../data_labeling/src/results/superpixel_bainite_segments/797-DQ-full_1000x-2_bainite_13_bainite_superpixel_segment2.json",
         "bainite"
        ],
        [
         "3",
         "../../../data_labeling/src/results/superpixel_bainite_segments/797-DQ-full_1000x-2_martensite_12_martensite_superpixel_segment2.png",
         "../../../data_labeling/src/results/superpixel_bainite_segments/797-DQ-full_1000x-2_martensite_12_martensite_superpixel_segment2.json",
         "martensite"
        ],
        [
         "4",
         "../../../data_labeling/src/results/superpixel_bainite_segments/797-DQ-full_1000x-2_martensite_12_martensite_superpixel_segment0.png",
         "../../../data_labeling/src/results/superpixel_bainite_segments/797-DQ-full_1000x-2_martensite_12_martensite_superpixel_segment0.json",
         "martensite"
        ],
        [
         "5",
         "../../../data_labeling/src/results/superpixel_bainite_segments/797-DQ-full_1000x-2_bainite_13_bainite_superpixel_segment0.png",
         "../../../data_labeling/src/results/superpixel_bainite_segments/797-DQ-full_1000x-2_bainite_13_bainite_superpixel_segment0.json",
         "bainite"
        ],
        [
         "6",
         "../../../data_labeling/src/results/superpixel_bainite_segments/797-DQ-full_1000x-2_bainite_13_bainite_superpixel_segment1.png",
         "../../../data_labeling/src/results/superpixel_bainite_segments/797-DQ-full_1000x-2_bainite_13_bainite_superpixel_segment1.json",
         "bainite"
        ],
        [
         "7",
         "../../../data_labeling/src/results/superpixel_bainite_segments/797-DQ-full_1000x-2_martensite_12_martensite_superpixel_segment1.png",
         "../../../data_labeling/src/results/superpixel_bainite_segments/797-DQ-full_1000x-2_martensite_12_martensite_superpixel_segment1.json",
         "martensite"
        ],
        [
         "8",
         "../../../data_labeling/src/results/superpixel_bainite_segments/797-DQ-full_1000x-2_martensite_14_martensite_superpixel_segment0.png",
         "../../../data_labeling/src/results/superpixel_bainite_segments/797-DQ-full_1000x-2_martensite_14_martensite_superpixel_segment0.json",
         "martensite"
        ],
        [
         "9",
         "../../../data_labeling/src/results/superpixel_bainite_segments/797-DQ-full_1000x-1_martensite_4_martensite_superpixel_segment0.png",
         "../../../data_labeling/src/results/superpixel_bainite_segments/797-DQ-full_1000x-1_martensite_4_martensite_superpixel_segment0.json",
         "martensite"
        ],
        [
         "10",
         "../../../data_labeling/src/results/superpixel_bainite_segments/797-DQ-full_1000x-1_bainite_5_bainite_superpixel_segment0.png",
         "../../../data_labeling/src/results/superpixel_bainite_segments/797-DQ-full_1000x-1_bainite_5_bainite_superpixel_segment0.json",
         "bainite"
        ],
        [
         "11",
         "../../../data_labeling/src/results/superpixel_bainite_segments/797-DQ-full_1000x-1_martensite_11_martensite_superpixel_segment0.png",
         "../../../data_labeling/src/results/superpixel_bainite_segments/797-DQ-full_1000x-1_martensite_11_martensite_superpixel_segment0.json",
         "martensite"
        ],
        [
         "12",
         "../../../data_labeling/src/results/superpixel_bainite_segments/797-DQ-full_1000x-1_martensite_8_martensite_superpixel_segment0.png",
         "../../../data_labeling/src/results/superpixel_bainite_segments/797-DQ-full_1000x-1_martensite_8_martensite_superpixel_segment0.json",
         "martensite"
        ],
        [
         "13",
         "../../../data_labeling/src/results/superpixel_bainite_segments/797-DQ-full_1000x-2_bainite_15_bainite_superpixel_segment0.png",
         "../../../data_labeling/src/results/superpixel_bainite_segments/797-DQ-full_1000x-2_bainite_15_bainite_superpixel_segment0.json",
         "bainite"
        ],
        [
         "14",
         "../../../data_labeling/src/results/superpixel_bainite_segments/797-DQ-full_1000x-2_martensite_9_martensite_superpixel_segment0.png",
         "../../../data_labeling/src/results/superpixel_bainite_segments/797-DQ-full_1000x-2_martensite_9_martensite_superpixel_segment0.json",
         "martensite"
        ],
        [
         "15",
         "../../../data_labeling/src/results/superpixel_bainite_segments/797-DQ-full_1000x-2_martensite_9_martensite_superpixel_segment1.png",
         "../../../data_labeling/src/results/superpixel_bainite_segments/797-DQ-full_1000x-2_martensite_9_martensite_superpixel_segment1.json",
         "martensite"
        ],
        [
         "16",
         "../../../data_labeling/src/results/superpixel_bainite_segments/797-DQ-full_1000x-1_bainite_12_bainite_superpixel_segment8.png",
         "../../../data_labeling/src/results/superpixel_bainite_segments/797-DQ-full_1000x-1_bainite_12_bainite_superpixel_segment8.json",
         "bainite"
        ],
        [
         "17",
         "../../../data_labeling/src/results/superpixel_bainite_segments/797-DQ-full_1000x-2_bainite_10_bainite_superpixel_segment0.png",
         "../../../data_labeling/src/results/superpixel_bainite_segments/797-DQ-full_1000x-2_bainite_10_bainite_superpixel_segment0.json",
         "bainite"
        ],
        [
         "18",
         "../../../data_labeling/src/results/superpixel_bainite_segments/797-DQ-full_1000x-2_martensite_9_martensite_superpixel_segment2.png",
         "../../../data_labeling/src/results/superpixel_bainite_segments/797-DQ-full_1000x-2_martensite_9_martensite_superpixel_segment2.json",
         "martensite"
        ],
        [
         "19",
         "../../../data_labeling/src/results/superpixel_bainite_segments/797-DQ-full_1000x-2_bainite_10_bainite_superpixel_segment1.png",
         "../../../data_labeling/src/results/superpixel_bainite_segments/797-DQ-full_1000x-2_bainite_10_bainite_superpixel_segment1.json",
         "bainite"
        ],
        [
         "20",
         "../../../data_labeling/src/results/superpixel_bainite_segments/797-DQ-full_1000x-1_bainite_12_bainite_superpixel_segment9.png",
         "../../../data_labeling/src/results/superpixel_bainite_segments/797-DQ-full_1000x-1_bainite_12_bainite_superpixel_segment9.json",
         "bainite"
        ],
        [
         "21",
         "../../../data_labeling/src/results/superpixel_bainite_segments/797-DQ-full_1000x-1_bainite_12_bainite_superpixel_segment4.png",
         "../../../data_labeling/src/results/superpixel_bainite_segments/797-DQ-full_1000x-1_bainite_12_bainite_superpixel_segment4.json",
         "bainite"
        ],
        [
         "22",
         "../../../data_labeling/src/results/superpixel_bainite_segments/797-DQ-full_1000x-2_bainite_8_bainite_superpixel_segment2.png",
         "../../../data_labeling/src/results/superpixel_bainite_segments/797-DQ-full_1000x-2_bainite_8_bainite_superpixel_segment2.json",
         "bainite"
        ],
        [
         "23",
         "../../../data_labeling/src/results/superpixel_bainite_segments/797-DQ-full_1000x-2_martensite_7_martensite_superpixel_segment2.png",
         "../../../data_labeling/src/results/superpixel_bainite_segments/797-DQ-full_1000x-2_martensite_7_martensite_superpixel_segment2.json",
         "martensite"
        ],
        [
         "24",
         "../../../data_labeling/src/results/superpixel_bainite_segments/797-DQ-full_1000x-1_bainite_12_bainite_superpixel_segment10.png",
         "../../../data_labeling/src/results/superpixel_bainite_segments/797-DQ-full_1000x-1_bainite_12_bainite_superpixel_segment10.json",
         "bainite"
        ],
        [
         "25",
         "../../../data_labeling/src/results/superpixel_bainite_segments/797-DQ-full_1000x-1_bainite_7_bainite_superpixel_segment0.png",
         "../../../data_labeling/src/results/superpixel_bainite_segments/797-DQ-full_1000x-1_bainite_7_bainite_superpixel_segment0.json",
         "bainite"
        ],
        [
         "26",
         "../../../data_labeling/src/results/superpixel_bainite_segments/797-DQ-full_1000x-1_bainite_12_bainite_superpixel_segment5.png",
         "../../../data_labeling/src/results/superpixel_bainite_segments/797-DQ-full_1000x-1_bainite_12_bainite_superpixel_segment5.json",
         "bainite"
        ],
        [
         "27",
         "../../../data_labeling/src/results/superpixel_bainite_segments/797-DQ-full_1000x-1_bainite_12_bainite_superpixel_segment7.png",
         "../../../data_labeling/src/results/superpixel_bainite_segments/797-DQ-full_1000x-1_bainite_12_bainite_superpixel_segment7.json",
         "bainite"
        ],
        [
         "28",
         "../../../data_labeling/src/results/superpixel_bainite_segments/797-DQ-full_1000x-2_bainite_8_bainite_superpixel_segment1.png",
         "../../../data_labeling/src/results/superpixel_bainite_segments/797-DQ-full_1000x-2_bainite_8_bainite_superpixel_segment1.json",
         "bainite"
        ],
        [
         "29",
         "../../../data_labeling/src/results/superpixel_bainite_segments/797-DQ-full_1000x-1_martensite_6_martensite_superpixel_segment4.png",
         "../../../data_labeling/src/results/superpixel_bainite_segments/797-DQ-full_1000x-1_martensite_6_martensite_superpixel_segment4.json",
         "martensite"
        ],
        [
         "30",
         "../../../data_labeling/src/results/superpixel_bainite_segments/797-DQ-full_1000x-2_martensite_7_martensite_superpixel_segment1.png",
         "../../../data_labeling/src/results/superpixel_bainite_segments/797-DQ-full_1000x-2_martensite_7_martensite_superpixel_segment1.json",
         "martensite"
        ],
        [
         "31",
         "../../../data_labeling/src/results/superpixel_bainite_segments/797-DQ-full_1000x-2_martensite_7_martensite_superpixel_segment0.png",
         "../../../data_labeling/src/results/superpixel_bainite_segments/797-DQ-full_1000x-2_martensite_7_martensite_superpixel_segment0.json",
         "martensite"
        ],
        [
         "32",
         "../../../data_labeling/src/results/superpixel_bainite_segments/797-DQ-full_1000x-1_martensite_6_martensite_superpixel_segment5.png",
         "../../../data_labeling/src/results/superpixel_bainite_segments/797-DQ-full_1000x-1_martensite_6_martensite_superpixel_segment5.json",
         "martensite"
        ],
        [
         "33",
         "../../../data_labeling/src/results/superpixel_bainite_segments/797-DQ-full_1000x-2_bainite_8_bainite_superpixel_segment0.png",
         "../../../data_labeling/src/results/superpixel_bainite_segments/797-DQ-full_1000x-2_bainite_8_bainite_superpixel_segment0.json",
         "bainite"
        ],
        [
         "34",
         "../../../data_labeling/src/results/superpixel_bainite_segments/797-DQ-full_1000x-1_bainite_12_bainite_superpixel_segment6.png",
         "../../../data_labeling/src/results/superpixel_bainite_segments/797-DQ-full_1000x-1_bainite_12_bainite_superpixel_segment6.json",
         "bainite"
        ],
        [
         "35",
         "../../../data_labeling/src/results/superpixel_bainite_segments/797-DQ-full_1000x-1_bainite_12_bainite_superpixel_segment2.png",
         "../../../data_labeling/src/results/superpixel_bainite_segments/797-DQ-full_1000x-1_bainite_12_bainite_superpixel_segment2.json",
         "bainite"
        ],
        [
         "36",
         "../../../data_labeling/src/results/superpixel_bainite_segments/797-DQ-full_1000x-1_martensite_6_martensite_superpixel_segment1.png",
         "../../../data_labeling/src/results/superpixel_bainite_segments/797-DQ-full_1000x-1_martensite_6_martensite_superpixel_segment1.json",
         "martensite"
        ],
        [
         "37",
         "../../../data_labeling/src/results/superpixel_bainite_segments/797-DQ-full_1000x-2_martensite_16_martensite_superpixel_segment1.png",
         "../../../data_labeling/src/results/superpixel_bainite_segments/797-DQ-full_1000x-2_martensite_16_martensite_superpixel_segment1.json",
         "martensite"
        ],
        [
         "38",
         "../../../data_labeling/src/results/superpixel_bainite_segments/797-DQ-full_1000x-2_bainite_11_bainite_superpixel_segment0.png",
         "../../../data_labeling/src/results/superpixel_bainite_segments/797-DQ-full_1000x-2_bainite_11_bainite_superpixel_segment0.json",
         "bainite"
        ],
        [
         "39",
         "../../../data_labeling/src/results/superpixel_bainite_segments/797-DQ-full_1000x-2_martensite_16_martensite_superpixel_segment0.png",
         "../../../data_labeling/src/results/superpixel_bainite_segments/797-DQ-full_1000x-2_martensite_16_martensite_superpixel_segment0.json",
         "martensite"
        ],
        [
         "40",
         "../../../data_labeling/src/results/superpixel_bainite_segments/797-DQ-full_1000x-1_martensite_6_martensite_superpixel_segment0.png",
         "../../../data_labeling/src/results/superpixel_bainite_segments/797-DQ-full_1000x-1_martensite_6_martensite_superpixel_segment0.json",
         "martensite"
        ],
        [
         "41",
         "../../../data_labeling/src/results/superpixel_bainite_segments/797-DQ-full_1000x-1_bainite_12_bainite_superpixel_segment3.png",
         "../../../data_labeling/src/results/superpixel_bainite_segments/797-DQ-full_1000x-1_bainite_12_bainite_superpixel_segment3.json",
         "bainite"
        ],
        [
         "42",
         "../../../data_labeling/src/results/superpixel_bainite_segments/797-DQ-full_1000x-1_martensite_14_martensite_superpixel_segment0.png",
         "../../../data_labeling/src/results/superpixel_bainite_segments/797-DQ-full_1000x-1_martensite_14_martensite_superpixel_segment0.json",
         "martensite"
        ],
        [
         "43",
         "../../../data_labeling/src/results/superpixel_bainite_segments/797-DQ-full_1000x-1_bainite_12_bainite_superpixel_segment1.png",
         "../../../data_labeling/src/results/superpixel_bainite_segments/797-DQ-full_1000x-1_bainite_12_bainite_superpixel_segment1.json",
         "bainite"
        ],
        [
         "44",
         "../../../data_labeling/src/results/superpixel_bainite_segments/797-DQ-full_1000x-2_martensite_16_martensite_superpixel_segment2.png",
         "../../../data_labeling/src/results/superpixel_bainite_segments/797-DQ-full_1000x-2_martensite_16_martensite_superpixel_segment2.json",
         "martensite"
        ],
        [
         "45",
         "../../../data_labeling/src/results/superpixel_bainite_segments/797-DQ-full_1000x-1_martensite_6_martensite_superpixel_segment2.png",
         "../../../data_labeling/src/results/superpixel_bainite_segments/797-DQ-full_1000x-1_martensite_6_martensite_superpixel_segment2.json",
         "martensite"
        ],
        [
         "46",
         "../../../data_labeling/src/results/superpixel_bainite_segments/797-DQ-full_1000x-1_martensite_6_martensite_superpixel_segment3.png",
         "../../../data_labeling/src/results/superpixel_bainite_segments/797-DQ-full_1000x-1_martensite_6_martensite_superpixel_segment3.json",
         "martensite"
        ],
        [
         "47",
         "../../../data_labeling/src/results/superpixel_bainite_segments/797-DQ-full_1000x-1_bainite_12_bainite_superpixel_segment0.png",
         "../../../data_labeling/src/results/superpixel_bainite_segments/797-DQ-full_1000x-1_bainite_12_bainite_superpixel_segment0.json",
         "bainite"
        ],
        [
         "48",
         "../../../data_labeling/src/results/superpixel_bainite_segments/797-DQ-full_1000x-1_martensite_13_martensite_superpixel_segment0.png",
         "../../../data_labeling/src/results/superpixel_bainite_segments/797-DQ-full_1000x-1_martensite_13_martensite_superpixel_segment0.json",
         "martensite"
        ],
        [
         "49",
         "../../../data_labeling/src/results/superpixel_bainite_segments/797-DQ-full_1000x-1_bainite_9_bainite_superpixel_segment0.png",
         "../../../data_labeling/src/results/superpixel_bainite_segments/797-DQ-full_1000x-1_bainite_9_bainite_superpixel_segment0.json",
         "bainite"
        ]
       ],
       "shape": {
        "columns": 3,
        "rows": 53
       }
      },
      "text/html": [
       "<div>\n",
       "<style scoped>\n",
       "    .dataframe tbody tr th:only-of-type {\n",
       "        vertical-align: middle;\n",
       "    }\n",
       "\n",
       "    .dataframe tbody tr th {\n",
       "        vertical-align: top;\n",
       "    }\n",
       "\n",
       "    .dataframe thead th {\n",
       "        text-align: right;\n",
       "    }\n",
       "</style>\n",
       "<table border=\"1\" class=\"dataframe\">\n",
       "  <thead>\n",
       "    <tr style=\"text-align: right;\">\n",
       "      <th></th>\n",
       "      <th>image_path</th>\n",
       "      <th>json_path</th>\n",
       "      <th>label</th>\n",
       "    </tr>\n",
       "  </thead>\n",
       "  <tbody>\n",
       "    <tr>\n",
       "      <th>0</th>\n",
       "      <td>../../../data_labeling/src/results/superpixel_...</td>\n",
       "      <td>../../../data_labeling/src/results/superpixel_...</td>\n",
       "      <td>bainite</td>\n",
       "    </tr>\n",
       "    <tr>\n",
       "      <th>1</th>\n",
       "      <td>../../../data_labeling/src/results/superpixel_...</td>\n",
       "      <td>../../../data_labeling/src/results/superpixel_...</td>\n",
       "      <td>martensite</td>\n",
       "    </tr>\n",
       "    <tr>\n",
       "      <th>2</th>\n",
       "      <td>../../../data_labeling/src/results/superpixel_...</td>\n",
       "      <td>../../../data_labeling/src/results/superpixel_...</td>\n",
       "      <td>bainite</td>\n",
       "    </tr>\n",
       "    <tr>\n",
       "      <th>3</th>\n",
       "      <td>../../../data_labeling/src/results/superpixel_...</td>\n",
       "      <td>../../../data_labeling/src/results/superpixel_...</td>\n",
       "      <td>martensite</td>\n",
       "    </tr>\n",
       "    <tr>\n",
       "      <th>4</th>\n",
       "      <td>../../../data_labeling/src/results/superpixel_...</td>\n",
       "      <td>../../../data_labeling/src/results/superpixel_...</td>\n",
       "      <td>martensite</td>\n",
       "    </tr>\n",
       "    <tr>\n",
       "      <th>5</th>\n",
       "      <td>../../../data_labeling/src/results/superpixel_...</td>\n",
       "      <td>../../../data_labeling/src/results/superpixel_...</td>\n",
       "      <td>bainite</td>\n",
       "    </tr>\n",
       "    <tr>\n",
       "      <th>6</th>\n",
       "      <td>../../../data_labeling/src/results/superpixel_...</td>\n",
       "      <td>../../../data_labeling/src/results/superpixel_...</td>\n",
       "      <td>bainite</td>\n",
       "    </tr>\n",
       "    <tr>\n",
       "      <th>7</th>\n",
       "      <td>../../../data_labeling/src/results/superpixel_...</td>\n",
       "      <td>../../../data_labeling/src/results/superpixel_...</td>\n",
       "      <td>martensite</td>\n",
       "    </tr>\n",
       "    <tr>\n",
       "      <th>8</th>\n",
       "      <td>../../../data_labeling/src/results/superpixel_...</td>\n",
       "      <td>../../../data_labeling/src/results/superpixel_...</td>\n",
       "      <td>martensite</td>\n",
       "    </tr>\n",
       "    <tr>\n",
       "      <th>9</th>\n",
       "      <td>../../../data_labeling/src/results/superpixel_...</td>\n",
       "      <td>../../../data_labeling/src/results/superpixel_...</td>\n",
       "      <td>martensite</td>\n",
       "    </tr>\n",
       "    <tr>\n",
       "      <th>10</th>\n",
       "      <td>../../../data_labeling/src/results/superpixel_...</td>\n",
       "      <td>../../../data_labeling/src/results/superpixel_...</td>\n",
       "      <td>bainite</td>\n",
       "    </tr>\n",
       "    <tr>\n",
       "      <th>11</th>\n",
       "      <td>../../../data_labeling/src/results/superpixel_...</td>\n",
       "      <td>../../../data_labeling/src/results/superpixel_...</td>\n",
       "      <td>martensite</td>\n",
       "    </tr>\n",
       "    <tr>\n",
       "      <th>12</th>\n",
       "      <td>../../../data_labeling/src/results/superpixel_...</td>\n",
       "      <td>../../../data_labeling/src/results/superpixel_...</td>\n",
       "      <td>martensite</td>\n",
       "    </tr>\n",
       "    <tr>\n",
       "      <th>13</th>\n",
       "      <td>../../../data_labeling/src/results/superpixel_...</td>\n",
       "      <td>../../../data_labeling/src/results/superpixel_...</td>\n",
       "      <td>bainite</td>\n",
       "    </tr>\n",
       "    <tr>\n",
       "      <th>14</th>\n",
       "      <td>../../../data_labeling/src/results/superpixel_...</td>\n",
       "      <td>../../../data_labeling/src/results/superpixel_...</td>\n",
       "      <td>martensite</td>\n",
       "    </tr>\n",
       "    <tr>\n",
       "      <th>15</th>\n",
       "      <td>../../../data_labeling/src/results/superpixel_...</td>\n",
       "      <td>../../../data_labeling/src/results/superpixel_...</td>\n",
       "      <td>martensite</td>\n",
       "    </tr>\n",
       "    <tr>\n",
       "      <th>16</th>\n",
       "      <td>../../../data_labeling/src/results/superpixel_...</td>\n",
       "      <td>../../../data_labeling/src/results/superpixel_...</td>\n",
       "      <td>bainite</td>\n",
       "    </tr>\n",
       "    <tr>\n",
       "      <th>17</th>\n",
       "      <td>../../../data_labeling/src/results/superpixel_...</td>\n",
       "      <td>../../../data_labeling/src/results/superpixel_...</td>\n",
       "      <td>bainite</td>\n",
       "    </tr>\n",
       "    <tr>\n",
       "      <th>18</th>\n",
       "      <td>../../../data_labeling/src/results/superpixel_...</td>\n",
       "      <td>../../../data_labeling/src/results/superpixel_...</td>\n",
       "      <td>martensite</td>\n",
       "    </tr>\n",
       "    <tr>\n",
       "      <th>19</th>\n",
       "      <td>../../../data_labeling/src/results/superpixel_...</td>\n",
       "      <td>../../../data_labeling/src/results/superpixel_...</td>\n",
       "      <td>bainite</td>\n",
       "    </tr>\n",
       "    <tr>\n",
       "      <th>20</th>\n",
       "      <td>../../../data_labeling/src/results/superpixel_...</td>\n",
       "      <td>../../../data_labeling/src/results/superpixel_...</td>\n",
       "      <td>bainite</td>\n",
       "    </tr>\n",
       "    <tr>\n",
       "      <th>21</th>\n",
       "      <td>../../../data_labeling/src/results/superpixel_...</td>\n",
       "      <td>../../../data_labeling/src/results/superpixel_...</td>\n",
       "      <td>bainite</td>\n",
       "    </tr>\n",
       "    <tr>\n",
       "      <th>22</th>\n",
       "      <td>../../../data_labeling/src/results/superpixel_...</td>\n",
       "      <td>../../../data_labeling/src/results/superpixel_...</td>\n",
       "      <td>bainite</td>\n",
       "    </tr>\n",
       "    <tr>\n",
       "      <th>23</th>\n",
       "      <td>../../../data_labeling/src/results/superpixel_...</td>\n",
       "      <td>../../../data_labeling/src/results/superpixel_...</td>\n",
       "      <td>martensite</td>\n",
       "    </tr>\n",
       "    <tr>\n",
       "      <th>24</th>\n",
       "      <td>../../../data_labeling/src/results/superpixel_...</td>\n",
       "      <td>../../../data_labeling/src/results/superpixel_...</td>\n",
       "      <td>bainite</td>\n",
       "    </tr>\n",
       "    <tr>\n",
       "      <th>25</th>\n",
       "      <td>../../../data_labeling/src/results/superpixel_...</td>\n",
       "      <td>../../../data_labeling/src/results/superpixel_...</td>\n",
       "      <td>bainite</td>\n",
       "    </tr>\n",
       "    <tr>\n",
       "      <th>26</th>\n",
       "      <td>../../../data_labeling/src/results/superpixel_...</td>\n",
       "      <td>../../../data_labeling/src/results/superpixel_...</td>\n",
       "      <td>bainite</td>\n",
       "    </tr>\n",
       "    <tr>\n",
       "      <th>27</th>\n",
       "      <td>../../../data_labeling/src/results/superpixel_...</td>\n",
       "      <td>../../../data_labeling/src/results/superpixel_...</td>\n",
       "      <td>bainite</td>\n",
       "    </tr>\n",
       "    <tr>\n",
       "      <th>28</th>\n",
       "      <td>../../../data_labeling/src/results/superpixel_...</td>\n",
       "      <td>../../../data_labeling/src/results/superpixel_...</td>\n",
       "      <td>bainite</td>\n",
       "    </tr>\n",
       "    <tr>\n",
       "      <th>29</th>\n",
       "      <td>../../../data_labeling/src/results/superpixel_...</td>\n",
       "      <td>../../../data_labeling/src/results/superpixel_...</td>\n",
       "      <td>martensite</td>\n",
       "    </tr>\n",
       "    <tr>\n",
       "      <th>30</th>\n",
       "      <td>../../../data_labeling/src/results/superpixel_...</td>\n",
       "      <td>../../../data_labeling/src/results/superpixel_...</td>\n",
       "      <td>martensite</td>\n",
       "    </tr>\n",
       "    <tr>\n",
       "      <th>31</th>\n",
       "      <td>../../../data_labeling/src/results/superpixel_...</td>\n",
       "      <td>../../../data_labeling/src/results/superpixel_...</td>\n",
       "      <td>martensite</td>\n",
       "    </tr>\n",
       "    <tr>\n",
       "      <th>32</th>\n",
       "      <td>../../../data_labeling/src/results/superpixel_...</td>\n",
       "      <td>../../../data_labeling/src/results/superpixel_...</td>\n",
       "      <td>martensite</td>\n",
       "    </tr>\n",
       "    <tr>\n",
       "      <th>33</th>\n",
       "      <td>../../../data_labeling/src/results/superpixel_...</td>\n",
       "      <td>../../../data_labeling/src/results/superpixel_...</td>\n",
       "      <td>bainite</td>\n",
       "    </tr>\n",
       "    <tr>\n",
       "      <th>34</th>\n",
       "      <td>../../../data_labeling/src/results/superpixel_...</td>\n",
       "      <td>../../../data_labeling/src/results/superpixel_...</td>\n",
       "      <td>bainite</td>\n",
       "    </tr>\n",
       "    <tr>\n",
       "      <th>35</th>\n",
       "      <td>../../../data_labeling/src/results/superpixel_...</td>\n",
       "      <td>../../../data_labeling/src/results/superpixel_...</td>\n",
       "      <td>bainite</td>\n",
       "    </tr>\n",
       "    <tr>\n",
       "      <th>36</th>\n",
       "      <td>../../../data_labeling/src/results/superpixel_...</td>\n",
       "      <td>../../../data_labeling/src/results/superpixel_...</td>\n",
       "      <td>martensite</td>\n",
       "    </tr>\n",
       "    <tr>\n",
       "      <th>37</th>\n",
       "      <td>../../../data_labeling/src/results/superpixel_...</td>\n",
       "      <td>../../../data_labeling/src/results/superpixel_...</td>\n",
       "      <td>martensite</td>\n",
       "    </tr>\n",
       "    <tr>\n",
       "      <th>38</th>\n",
       "      <td>../../../data_labeling/src/results/superpixel_...</td>\n",
       "      <td>../../../data_labeling/src/results/superpixel_...</td>\n",
       "      <td>bainite</td>\n",
       "    </tr>\n",
       "    <tr>\n",
       "      <th>39</th>\n",
       "      <td>../../../data_labeling/src/results/superpixel_...</td>\n",
       "      <td>../../../data_labeling/src/results/superpixel_...</td>\n",
       "      <td>martensite</td>\n",
       "    </tr>\n",
       "    <tr>\n",
       "      <th>40</th>\n",
       "      <td>../../../data_labeling/src/results/superpixel_...</td>\n",
       "      <td>../../../data_labeling/src/results/superpixel_...</td>\n",
       "      <td>martensite</td>\n",
       "    </tr>\n",
       "    <tr>\n",
       "      <th>41</th>\n",
       "      <td>../../../data_labeling/src/results/superpixel_...</td>\n",
       "      <td>../../../data_labeling/src/results/superpixel_...</td>\n",
       "      <td>bainite</td>\n",
       "    </tr>\n",
       "    <tr>\n",
       "      <th>42</th>\n",
       "      <td>../../../data_labeling/src/results/superpixel_...</td>\n",
       "      <td>../../../data_labeling/src/results/superpixel_...</td>\n",
       "      <td>martensite</td>\n",
       "    </tr>\n",
       "    <tr>\n",
       "      <th>43</th>\n",
       "      <td>../../../data_labeling/src/results/superpixel_...</td>\n",
       "      <td>../../../data_labeling/src/results/superpixel_...</td>\n",
       "      <td>bainite</td>\n",
       "    </tr>\n",
       "    <tr>\n",
       "      <th>44</th>\n",
       "      <td>../../../data_labeling/src/results/superpixel_...</td>\n",
       "      <td>../../../data_labeling/src/results/superpixel_...</td>\n",
       "      <td>martensite</td>\n",
       "    </tr>\n",
       "    <tr>\n",
       "      <th>45</th>\n",
       "      <td>../../../data_labeling/src/results/superpixel_...</td>\n",
       "      <td>../../../data_labeling/src/results/superpixel_...</td>\n",
       "      <td>martensite</td>\n",
       "    </tr>\n",
       "    <tr>\n",
       "      <th>46</th>\n",
       "      <td>../../../data_labeling/src/results/superpixel_...</td>\n",
       "      <td>../../../data_labeling/src/results/superpixel_...</td>\n",
       "      <td>martensite</td>\n",
       "    </tr>\n",
       "    <tr>\n",
       "      <th>47</th>\n",
       "      <td>../../../data_labeling/src/results/superpixel_...</td>\n",
       "      <td>../../../data_labeling/src/results/superpixel_...</td>\n",
       "      <td>bainite</td>\n",
       "    </tr>\n",
       "    <tr>\n",
       "      <th>48</th>\n",
       "      <td>../../../data_labeling/src/results/superpixel_...</td>\n",
       "      <td>../../../data_labeling/src/results/superpixel_...</td>\n",
       "      <td>martensite</td>\n",
       "    </tr>\n",
       "    <tr>\n",
       "      <th>49</th>\n",
       "      <td>../../../data_labeling/src/results/superpixel_...</td>\n",
       "      <td>../../../data_labeling/src/results/superpixel_...</td>\n",
       "      <td>bainite</td>\n",
       "    </tr>\n",
       "    <tr>\n",
       "      <th>50</th>\n",
       "      <td>../../../data_labeling/src/results/superpixel_...</td>\n",
       "      <td>../../../data_labeling/src/results/superpixel_...</td>\n",
       "      <td>martensite</td>\n",
       "    </tr>\n",
       "    <tr>\n",
       "      <th>51</th>\n",
       "      <td>../../../data_labeling/src/results/superpixel_...</td>\n",
       "      <td>../../../data_labeling/src/results/superpixel_...</td>\n",
       "      <td>martensite</td>\n",
       "    </tr>\n",
       "    <tr>\n",
       "      <th>52</th>\n",
       "      <td>../../../data_labeling/src/results/superpixel_...</td>\n",
       "      <td>../../../data_labeling/src/results/superpixel_...</td>\n",
       "      <td>martensite</td>\n",
       "    </tr>\n",
       "  </tbody>\n",
       "</table>\n",
       "</div>"
      ],
      "text/plain": [
       "                                           image_path  \\\n",
       "0   ../../../data_labeling/src/results/superpixel_...   \n",
       "1   ../../../data_labeling/src/results/superpixel_...   \n",
       "2   ../../../data_labeling/src/results/superpixel_...   \n",
       "3   ../../../data_labeling/src/results/superpixel_...   \n",
       "4   ../../../data_labeling/src/results/superpixel_...   \n",
       "5   ../../../data_labeling/src/results/superpixel_...   \n",
       "6   ../../../data_labeling/src/results/superpixel_...   \n",
       "7   ../../../data_labeling/src/results/superpixel_...   \n",
       "8   ../../../data_labeling/src/results/superpixel_...   \n",
       "9   ../../../data_labeling/src/results/superpixel_...   \n",
       "10  ../../../data_labeling/src/results/superpixel_...   \n",
       "11  ../../../data_labeling/src/results/superpixel_...   \n",
       "12  ../../../data_labeling/src/results/superpixel_...   \n",
       "13  ../../../data_labeling/src/results/superpixel_...   \n",
       "14  ../../../data_labeling/src/results/superpixel_...   \n",
       "15  ../../../data_labeling/src/results/superpixel_...   \n",
       "16  ../../../data_labeling/src/results/superpixel_...   \n",
       "17  ../../../data_labeling/src/results/superpixel_...   \n",
       "18  ../../../data_labeling/src/results/superpixel_...   \n",
       "19  ../../../data_labeling/src/results/superpixel_...   \n",
       "20  ../../../data_labeling/src/results/superpixel_...   \n",
       "21  ../../../data_labeling/src/results/superpixel_...   \n",
       "22  ../../../data_labeling/src/results/superpixel_...   \n",
       "23  ../../../data_labeling/src/results/superpixel_...   \n",
       "24  ../../../data_labeling/src/results/superpixel_...   \n",
       "25  ../../../data_labeling/src/results/superpixel_...   \n",
       "26  ../../../data_labeling/src/results/superpixel_...   \n",
       "27  ../../../data_labeling/src/results/superpixel_...   \n",
       "28  ../../../data_labeling/src/results/superpixel_...   \n",
       "29  ../../../data_labeling/src/results/superpixel_...   \n",
       "30  ../../../data_labeling/src/results/superpixel_...   \n",
       "31  ../../../data_labeling/src/results/superpixel_...   \n",
       "32  ../../../data_labeling/src/results/superpixel_...   \n",
       "33  ../../../data_labeling/src/results/superpixel_...   \n",
       "34  ../../../data_labeling/src/results/superpixel_...   \n",
       "35  ../../../data_labeling/src/results/superpixel_...   \n",
       "36  ../../../data_labeling/src/results/superpixel_...   \n",
       "37  ../../../data_labeling/src/results/superpixel_...   \n",
       "38  ../../../data_labeling/src/results/superpixel_...   \n",
       "39  ../../../data_labeling/src/results/superpixel_...   \n",
       "40  ../../../data_labeling/src/results/superpixel_...   \n",
       "41  ../../../data_labeling/src/results/superpixel_...   \n",
       "42  ../../../data_labeling/src/results/superpixel_...   \n",
       "43  ../../../data_labeling/src/results/superpixel_...   \n",
       "44  ../../../data_labeling/src/results/superpixel_...   \n",
       "45  ../../../data_labeling/src/results/superpixel_...   \n",
       "46  ../../../data_labeling/src/results/superpixel_...   \n",
       "47  ../../../data_labeling/src/results/superpixel_...   \n",
       "48  ../../../data_labeling/src/results/superpixel_...   \n",
       "49  ../../../data_labeling/src/results/superpixel_...   \n",
       "50  ../../../data_labeling/src/results/superpixel_...   \n",
       "51  ../../../data_labeling/src/results/superpixel_...   \n",
       "52  ../../../data_labeling/src/results/superpixel_...   \n",
       "\n",
       "                                            json_path       label  \n",
       "0   ../../../data_labeling/src/results/superpixel_...     bainite  \n",
       "1   ../../../data_labeling/src/results/superpixel_...  martensite  \n",
       "2   ../../../data_labeling/src/results/superpixel_...     bainite  \n",
       "3   ../../../data_labeling/src/results/superpixel_...  martensite  \n",
       "4   ../../../data_labeling/src/results/superpixel_...  martensite  \n",
       "5   ../../../data_labeling/src/results/superpixel_...     bainite  \n",
       "6   ../../../data_labeling/src/results/superpixel_...     bainite  \n",
       "7   ../../../data_labeling/src/results/superpixel_...  martensite  \n",
       "8   ../../../data_labeling/src/results/superpixel_...  martensite  \n",
       "9   ../../../data_labeling/src/results/superpixel_...  martensite  \n",
       "10  ../../../data_labeling/src/results/superpixel_...     bainite  \n",
       "11  ../../../data_labeling/src/results/superpixel_...  martensite  \n",
       "12  ../../../data_labeling/src/results/superpixel_...  martensite  \n",
       "13  ../../../data_labeling/src/results/superpixel_...     bainite  \n",
       "14  ../../../data_labeling/src/results/superpixel_...  martensite  \n",
       "15  ../../../data_labeling/src/results/superpixel_...  martensite  \n",
       "16  ../../../data_labeling/src/results/superpixel_...     bainite  \n",
       "17  ../../../data_labeling/src/results/superpixel_...     bainite  \n",
       "18  ../../../data_labeling/src/results/superpixel_...  martensite  \n",
       "19  ../../../data_labeling/src/results/superpixel_...     bainite  \n",
       "20  ../../../data_labeling/src/results/superpixel_...     bainite  \n",
       "21  ../../../data_labeling/src/results/superpixel_...     bainite  \n",
       "22  ../../../data_labeling/src/results/superpixel_...     bainite  \n",
       "23  ../../../data_labeling/src/results/superpixel_...  martensite  \n",
       "24  ../../../data_labeling/src/results/superpixel_...     bainite  \n",
       "25  ../../../data_labeling/src/results/superpixel_...     bainite  \n",
       "26  ../../../data_labeling/src/results/superpixel_...     bainite  \n",
       "27  ../../../data_labeling/src/results/superpixel_...     bainite  \n",
       "28  ../../../data_labeling/src/results/superpixel_...     bainite  \n",
       "29  ../../../data_labeling/src/results/superpixel_...  martensite  \n",
       "30  ../../../data_labeling/src/results/superpixel_...  martensite  \n",
       "31  ../../../data_labeling/src/results/superpixel_...  martensite  \n",
       "32  ../../../data_labeling/src/results/superpixel_...  martensite  \n",
       "33  ../../../data_labeling/src/results/superpixel_...     bainite  \n",
       "34  ../../../data_labeling/src/results/superpixel_...     bainite  \n",
       "35  ../../../data_labeling/src/results/superpixel_...     bainite  \n",
       "36  ../../../data_labeling/src/results/superpixel_...  martensite  \n",
       "37  ../../../data_labeling/src/results/superpixel_...  martensite  \n",
       "38  ../../../data_labeling/src/results/superpixel_...     bainite  \n",
       "39  ../../../data_labeling/src/results/superpixel_...  martensite  \n",
       "40  ../../../data_labeling/src/results/superpixel_...  martensite  \n",
       "41  ../../../data_labeling/src/results/superpixel_...     bainite  \n",
       "42  ../../../data_labeling/src/results/superpixel_...  martensite  \n",
       "43  ../../../data_labeling/src/results/superpixel_...     bainite  \n",
       "44  ../../../data_labeling/src/results/superpixel_...  martensite  \n",
       "45  ../../../data_labeling/src/results/superpixel_...  martensite  \n",
       "46  ../../../data_labeling/src/results/superpixel_...  martensite  \n",
       "47  ../../../data_labeling/src/results/superpixel_...     bainite  \n",
       "48  ../../../data_labeling/src/results/superpixel_...  martensite  \n",
       "49  ../../../data_labeling/src/results/superpixel_...     bainite  \n",
       "50  ../../../data_labeling/src/results/superpixel_...  martensite  \n",
       "51  ../../../data_labeling/src/results/superpixel_...  martensite  \n",
       "52  ../../../data_labeling/src/results/superpixel_...  martensite  "
      ]
     },
     "execution_count": 7,
     "metadata": {},
     "output_type": "execute_result"
    }
   ],
   "source": [
    "superpixel_segment_dataset.load_meta_data()"
   ]
  },
  {
   "cell_type": "code",
   "execution_count": 8,
   "id": "0c990b0b",
   "metadata": {},
   "outputs": [],
   "source": [
    "model = HistogramBaseModel(input_dataset=superpixel_segment_dataset,\n",
    "                           n_estimators=100, max_depth=10, min_samples_split=2, min_samples_leaf=1, max_features=2,\n",
    "                           bins=128)\n",
    "\n"
   ]
  },
  {
   "cell_type": "code",
   "execution_count": 9,
   "id": "6ed57dce",
   "metadata": {},
   "outputs": [
    {
     "name": "stderr",
     "output_type": "stream",
     "text": [
      "/Users/tomaszjazdzewski/Desktop/Bainite/Bainitu_segmenation/.venv/lib/python3.12/site-packages/tqdm/auto.py:21: TqdmWarning: IProgress not found. Please update jupyter and ipywidgets. See https://ipywidgets.readthedocs.io/en/stable/user_install.html\n",
      "  from .autonotebook import tqdm as notebook_tqdm\n"
     ]
    }
   ],
   "source": [
    "from optimisers.optuna_optimiser.optuna_optimiser import OptunaOptimiser\n",
    "\n",
    "\n",
    "hyper_parameters = {\n",
    "    'n_estimators': {'type': 'int', 'min': 50, 'max': 200},\n",
    "    'max_depth': {'type': 'int', 'min': 5, 'max': 20},\n",
    "    'min_samples_split': {'type': 'int', 'min': 2, 'max': 10},\n",
    "    'min_samples_leaf': {'type': 'int', 'min': 1, 'max': 5},\n",
    "    'max_features': {'type': 'int', 'min': 1, 'max': 5},   \n",
    "    'bins': {'type': 'int', 'min': 64, 'max': 256}\n",
    "}\n",
    "\n",
    "optuna_optimiser = OptunaOptimiser(model=HistogramBaseModel, input_dataset=superpixel_segment_dataset, n_trials=10,\n",
    "                                   hyper_parameters=hyper_parameters, maximize=True, metric_name='f1')"
   ]
  },
  {
   "cell_type": "code",
   "execution_count": 10,
   "id": "203e84dd",
   "metadata": {},
   "outputs": [
    {
     "name": "stderr",
     "output_type": "stream",
     "text": [
      "[I 2025-08-17 18:48:58,131] A new study created in memory with name: no-name-c0849b0f-a95b-4800-88ad-bc6ea13252f5\n"
     ]
    },
    {
     "name": "stdout",
     "output_type": "stream",
     "text": [
      "Processing 0 fold...\n",
      "Processing 1 fold...\n",
      "Processing 2 fold...\n",
      "Processing 3 fold...\n",
      "Processing 4 fold...\n"
     ]
    },
    {
     "name": "stderr",
     "output_type": "stream",
     "text": [
      "[I 2025-08-17 18:48:58,587] Trial 0 finished with value: 0.6771632112894556 and parameters: {'n_estimators': 102, 'max_depth': 20, 'min_samples_split': 2, 'min_samples_leaf': 3, 'max_features': 2, 'bins': 98}. Best is trial 0 with value: 0.6771632112894556.\n"
     ]
    },
    {
     "name": "stdout",
     "output_type": "stream",
     "text": [
      "Processing 0 fold...\n",
      "Processing 1 fold...\n",
      "Processing 2 fold...\n",
      "Processing 3 fold...\n"
     ]
    },
    {
     "name": "stderr",
     "output_type": "stream",
     "text": [
      "[I 2025-08-17 18:48:59,143] Trial 1 finished with value: 0.7128569955665532 and parameters: {'n_estimators': 145, 'max_depth': 9, 'min_samples_split': 8, 'min_samples_leaf': 1, 'max_features': 5, 'bins': 101}. Best is trial 1 with value: 0.7128569955665532.\n"
     ]
    },
    {
     "name": "stdout",
     "output_type": "stream",
     "text": [
      "Processing 4 fold...\n"
     ]
    },
    {
     "name": "stderr",
     "output_type": "stream",
     "text": [
      "[I 2025-08-17 18:48:59,536] Trial 2 finished with value: 0.6591574495770982 and parameters: {'n_estimators': 77, 'max_depth': 20, 'min_samples_split': 10, 'min_samples_leaf': 2, 'max_features': 4, 'bins': 95}. Best is trial 1 with value: 0.7128569955665532.\n"
     ]
    },
    {
     "name": "stdout",
     "output_type": "stream",
     "text": [
      "Processing 0 fold...\n",
      "Processing 1 fold...\n",
      "Processing 2 fold...\n",
      "Processing 3 fold...\n",
      "Processing 4 fold...\n"
     ]
    },
    {
     "name": "stderr",
     "output_type": "stream",
     "text": [
      "[I 2025-08-17 18:48:59,923] Trial 3 finished with value: 0.7331692644243916 and parameters: {'n_estimators': 57, 'max_depth': 9, 'min_samples_split': 6, 'min_samples_leaf': 3, 'max_features': 1, 'bins': 243}. Best is trial 3 with value: 0.7331692644243916.\n"
     ]
    },
    {
     "name": "stdout",
     "output_type": "stream",
     "text": [
      "Processing 0 fold...\n",
      "Processing 1 fold...\n",
      "Processing 2 fold...\n",
      "Processing 3 fold...\n",
      "Processing 4 fold...\n",
      "Processing 0 fold...\n",
      "Processing 1 fold...\n",
      "Processing 2 fold...\n",
      "Processing 3 fold...\n",
      "Processing 4 fold...\n"
     ]
    },
    {
     "name": "stderr",
     "output_type": "stream",
     "text": [
      "[I 2025-08-17 18:49:00,935] Trial 4 finished with value: 0.6771632112894556 and parameters: {'n_estimators': 153, 'max_depth': 9, 'min_samples_split': 5, 'min_samples_leaf': 2, 'max_features': 1, 'bins': 169}. Best is trial 3 with value: 0.7331692644243916.\n",
      "[I 2025-08-17 18:49:01,649] Trial 5 finished with value: 0.6569319114027891 and parameters: {'n_estimators': 80, 'max_depth': 18, 'min_samples_split': 6, 'min_samples_leaf': 2, 'max_features': 1, 'bins': 113}. Best is trial 3 with value: 0.7331692644243916.\n"
     ]
    },
    {
     "name": "stdout",
     "output_type": "stream",
     "text": [
      "Processing 0 fold...\n",
      "Processing 1 fold...\n",
      "Processing 2 fold...\n",
      "Processing 3 fold...\n",
      "Processing 4 fold...\n",
      "Processing 0 fold...\n",
      "Processing 1 fold...\n",
      "Processing 2 fold...\n",
      "Processing 3 fold...\n",
      "Processing 4 fold...\n"
     ]
    },
    {
     "name": "stderr",
     "output_type": "stream",
     "text": [
      "[I 2025-08-17 18:49:02,326] Trial 6 finished with value: 0.6569319114027891 and parameters: {'n_estimators': 191, 'max_depth': 7, 'min_samples_split': 3, 'min_samples_leaf': 5, 'max_features': 3, 'bins': 154}. Best is trial 3 with value: 0.7331692644243916.\n"
     ]
    },
    {
     "name": "stdout",
     "output_type": "stream",
     "text": [
      "Processing 0 fold...\n",
      "Processing 1 fold...\n",
      "Processing 2 fold...\n",
      "Processing 3 fold...\n"
     ]
    },
    {
     "name": "stderr",
     "output_type": "stream",
     "text": [
      "[I 2025-08-17 18:49:02,866] Trial 7 finished with value: 0.6569319114027891 and parameters: {'n_estimators': 138, 'max_depth': 11, 'min_samples_split': 2, 'min_samples_leaf': 1, 'max_features': 5, 'bins': 105}. Best is trial 3 with value: 0.7331692644243916.\n"
     ]
    },
    {
     "name": "stdout",
     "output_type": "stream",
     "text": [
      "Processing 4 fold...\n",
      "Processing 0 fold...\n",
      "Processing 1 fold...\n",
      "Processing 2 fold...\n",
      "Processing 3 fold...\n",
      "Processing 4 fold...\n"
     ]
    },
    {
     "name": "stderr",
     "output_type": "stream",
     "text": [
      "[I 2025-08-17 18:49:03,563] Trial 8 finished with value: 0.6794739851343624 and parameters: {'n_estimators': 199, 'max_depth': 5, 'min_samples_split': 9, 'min_samples_leaf': 3, 'max_features': 1, 'bins': 136}. Best is trial 3 with value: 0.7331692644243916.\n"
     ]
    },
    {
     "name": "stdout",
     "output_type": "stream",
     "text": [
      "Processing 0 fold...\n",
      "Processing 1 fold...\n",
      "Processing 2 fold...\n",
      "Processing 3 fold...\n",
      "Processing 4 fold...\n"
     ]
    },
    {
     "name": "stderr",
     "output_type": "stream",
     "text": [
      "[I 2025-08-17 18:49:04,239] Trial 9 finished with value: 0.6787859135709895 and parameters: {'n_estimators': 170, 'max_depth': 12, 'min_samples_split': 4, 'min_samples_leaf': 3, 'max_features': 1, 'bins': 94}. Best is trial 3 with value: 0.7331692644243916.\n"
     ]
    },
    {
     "name": "stdout",
     "output_type": "stream",
     "text": [
      "Best hyperparameters: {'n_estimators': 57, 'max_depth': 9, 'min_samples_split': 6, 'min_samples_leaf': 3, 'max_features': 1, 'bins': 243}\n",
      "Best accuracy: 0.7331692644243916\n"
     ]
    },
    {
     "data": {
      "text/plain": [
       "({'n_estimators': 57,\n",
       "  'max_depth': 9,\n",
       "  'min_samples_split': 6,\n",
       "  'min_samples_leaf': 3,\n",
       "  'max_features': 1,\n",
       "  'bins': 243},\n",
       " 0.7331692644243916)"
      ]
     },
     "execution_count": 10,
     "metadata": {},
     "output_type": "execute_result"
    }
   ],
   "source": [
    "optuna_optimiser.optimise()"
   ]
  },
  {
   "cell_type": "code",
   "execution_count": 11,
   "id": "de118796",
   "metadata": {},
   "outputs": [
    {
     "ename": "NameError",
     "evalue": "name 'cm' is not defined",
     "output_type": "error",
     "traceback": [
      "\u001b[31m---------------------------------------------------------------------------\u001b[39m",
      "\u001b[31mNameError\u001b[39m                                 Traceback (most recent call last)",
      "\u001b[36mCell\u001b[39m\u001b[36m \u001b[39m\u001b[32mIn[11]\u001b[39m\u001b[32m, line 22\u001b[39m\n\u001b[32m     18\u001b[39m     img = Image.open(buf)\n\u001b[32m     19\u001b[39m     \u001b[38;5;28;01mreturn\u001b[39;00m img\n\u001b[32m---> \u001b[39m\u001b[32m22\u001b[39m img=plot_confusion_matrix(\u001b[43mcm\u001b[49m, labels)\n\u001b[32m     23\u001b[39m img.show()\n",
      "\u001b[31mNameError\u001b[39m: name 'cm' is not defined"
     ]
    }
   ],
   "source": [
    "import matplotlib.pyplot as plt\n",
    "import seaborn as sns\n",
    "import io\n",
    "from PIL import Image\n",
    "def plot_confusion_matrix(cm, labels):\n",
    "\n",
    "    plt.figure(figsize=(5,4))\n",
    "    sns.heatmap(cm, annot=True, fmt=\"d\", cmap=\"Blues\", xticklabels=labels, yticklabels=labels)\n",
    "    plt.ylabel('True label')\n",
    "    plt.xlabel('Predicted label')\n",
    "\n",
    "    buf = io.BytesIO()\n",
    "    plt.savefig(buf, format='png')\n",
    "    plt.close()\n",
    "    buf.seek(0)\n",
    "\n",
    "    # Convert buffer to a PIL Image for MLflow\n",
    "    img = Image.open(buf)\n",
    "    return img\n",
    "\n",
    "\n",
    "img=plot_confusion_matrix(cm, labels)\n",
    "img.show()\n"
   ]
  }
 ],
 "metadata": {
  "kernelspec": {
   "display_name": ".venv",
   "language": "python",
   "name": "python3"
  },
  "language_info": {
   "codemirror_mode": {
    "name": "ipython",
    "version": 3
   },
   "file_extension": ".py",
   "mimetype": "text/x-python",
   "name": "python",
   "nbconvert_exporter": "python",
   "pygments_lexer": "ipython3",
   "version": "3.12.7"
  }
 },
 "nbformat": 4,
 "nbformat_minor": 5
}
